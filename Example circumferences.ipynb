{
 "cells": [
  {
   "cell_type": "code",
   "execution_count": 166,
   "metadata": {},
   "outputs": [],
   "source": [
    "import math\n",
    "import numpy as np\n",
    "import matplotlib.pyplot as plt\n",
    "from gtda.homology import VietorisRipsPersistence\n",
    "from gtda.plotting import plot_diagram\n",
    "from gtda.diagrams import PersistenceEntropy"
   ]
  },
  {
   "cell_type": "markdown",
   "metadata": {},
   "source": [
    "## Circumference data"
   ]
  },
  {
   "cell_type": "code",
   "execution_count": 126,
   "metadata": {},
   "outputs": [],
   "source": [
    "n= 100\n",
    "x= []\n",
    "y= []\n",
    "for t in np.linspace(0,2*math.pi,n):\n",
    "    x.append(math.cos(t))\n",
    "    y.append(math.sin(t))\n",
    "x= np.array(x)\n",
    "y= np.array(y)"
   ]
  },
  {
   "cell_type": "code",
   "execution_count": 133,
   "metadata": {},
   "outputs": [],
   "source": [
    "data=np.transpose(np.stack((x,y)))"
   ]
  },
  {
   "cell_type": "code",
   "execution_count": 136,
   "metadata": {
    "scrolled": false
   },
   "outputs": [
    {
     "data": {
      "text/plain": [
       "[<matplotlib.lines.Line2D at 0x7fc0d3607d60>]"
      ]
     },
     "execution_count": 136,
     "metadata": {},
     "output_type": "execute_result"
    },
    {
     "data": {
      "image/png": "[encoded data removed]",
      "text/plain": [
       "<Figure size 432x288 with 1 Axes>"
      ]
     },
     "metadata": {
      "needs_background": "light"
     },
     "output_type": "display_data"
    }
   ],
   "source": [
    "plt.plot(data[:,0],data[:,1],'o')"
   ]
  },
  {
   "cell_type": "markdown",
   "metadata": {},
   "source": [
    "## Circumference with noise data"
   ]
  },
  {
   "cell_type": "code",
   "execution_count": 137,
   "metadata": {},
   "outputs": [],
   "source": [
    "noise = np.random.normal(0,0.1,n)"
   ]
  },
  {
   "cell_type": "code",
   "execution_count": 138,
   "metadata": {},
   "outputs": [],
   "source": [
    "x_noise=x+noise\n",
    "y_noise = y+noise\n",
    "data_noise = np.transpose(np.stack((x_noise,y_noise)))"
   ]
  },
  {
   "cell_type": "code",
   "execution_count": 141,
   "metadata": {},
   "outputs": [
    {
     "data": {
      "text/plain": [
       "[<matplotlib.lines.Line2D at 0x7fc0d3544b80>]"
      ]
     },
     "execution_count": 141,
     "metadata": {},
     "output_type": "execute_result"
    },
    {
     "data": {
      "image/png": "[encoded data removed]",
      "text/plain": [
       "<Figure size 432x288 with 1 Axes>"
      ]
     },
     "metadata": {
      "needs_background": "light"
     },
     "output_type": "display_data"
    }
   ],
   "source": [
    "plt.plot(data_noise[:,0],data_noise[:,1],'o')"
   ]
  },
  {
   "cell_type": "markdown",
   "metadata": {},
   "source": [
    "## Two circumferences"
   ]
  },
  {
   "cell_type": "code",
   "execution_count": 158,
   "metadata": {},
   "outputs": [],
   "source": [
    "data_2_circ = np.concatenate((np.transpose(np.stack((x,y+4))),data))"
   ]
  },
  {
   "cell_type": "code",
   "execution_count": 159,
   "metadata": {},
   "outputs": [
    {
     "data": {
      "text/plain": [
       "[<matplotlib.lines.Line2D at 0x7fc0c99d3e80>]"
      ]
     },
     "execution_count": 159,
     "metadata": {},
     "output_type": "execute_result"
    },
    {
     "data": {
      "image/png": "[encoded data removed]",
      "text/plain": [
       "<Figure size 432x288 with 1 Axes>"
      ]
     },
     "metadata": {
      "needs_background": "light"
     },
     "output_type": "display_data"
    }
   ],
   "source": [
    "plt.plot(data_2_circ[:,0],data_2_circ[:,1],'o')"
   ]
  },
  {
   "cell_type": "markdown",
   "metadata": {},
   "source": [
    "## Persistence diagrams and persistent entropy computation"
   ]
  },
  {
   "cell_type": "code",
   "execution_count": 160,
   "metadata": {},
   "outputs": [],
   "source": [
    "homology_dimensions=[0,1]\n",
    "persistence = VietorisRipsPersistence(\n",
    "                metric = \"euclidean\",\n",
    "                homology_dimensions=homology_dimensions)"
   ]
  },
  {
   "cell_type": "code",
   "execution_count": 161,
   "metadata": {},
   "outputs": [],
   "source": [
    "diagrams=persistence.fit_transform([data,data_noise,data_2_circ])"
   ]
  },
  {
   "cell_type": "code",
   "execution_count": 162,
   "metadata": {},
   "outputs": [
    {
     "data": {
      "application/vnd.plotly.v1+json": {
       "config": {
        "plotlyServerURL": "https://plot.ly"
       },
       "data": [
        {
         "hoverinfo": "none",
         "line": {
          "color": "black",
          "dash": "dash",
          "width": 1
         },
         "mode": "lines",
         "showlegend": false,
         "type": "scatter",
         "x": [
          -0.03464101552963257,
          1.766691792011261
         ],
         "y": [
          -0.03464101552963257,
          1.766691792011261
         ]
        },
        {
         "hoverinfo": "text",
         "hovertext": [
          "(0.0, 0.06345586478710175), multiplicity: 98",
          "(0.0, 0.06345586478710175), multiplicity: 98",
          "(0.0, 0.06345586478710175), multiplicity: 98",
          "(0.0, 0.06345586478710175), multiplicity: 98",
          "(0.0, 0.06345586478710175), multiplicity: 98",
          "(0.0, 0.06345586478710175), multiplicity: 98",
          "(0.0, 0.06345586478710175), multiplicity: 98",
          "(0.0, 0.06345586478710175), multiplicity: 98",
          "(0.0, 0.06345586478710175), multiplicity: 98",
          "(0.0, 0.06345586478710175), multiplicity: 98",
          "(0.0, 0.06345586478710175), multiplicity: 98",
          "(0.0, 0.06345586478710175), multiplicity: 98",
          "(0.0, 0.06345586478710175), multiplicity: 98",
          "(0.0, 0.06345586478710175), multiplicity: 98",
          "(0.0, 0.06345586478710175), multiplicity: 98",
          "(0.0, 0.06345586478710175), multiplicity: 98",
          "(0.0, 0.06345586478710175), multiplicity: 98",
          "(0.0, 0.06345586478710175), multiplicity: 98",
          "(0.0, 0.06345586478710175), multiplicity: 98",
          "(0.0, 0.06345586478710175), multiplicity: 98",
          "(0.0, 0.06345586478710175), multiplicity: 98",
          "(0.0, 0.06345586478710175), multiplicity: 98",
          "(0.0, 0.06345586478710175), multiplicity: 98",
          "(0.0, 0.06345586478710175), multiplicity: 98",
          "(0.0, 0.06345586478710175), multiplicity: 98",
          "(0.0, 0.06345586478710175), multiplicity: 98",
          "(0.0, 0.06345586478710175), multiplicity: 98",
          "(0.0, 0.06345586478710175), multiplicity: 98",
          "(0.0, 0.06345586478710175), multiplicity: 98",
          "(0.0, 0.06345586478710175), multiplicity: 98",
          "(0.0, 0.06345586478710175), multiplicity: 98",
          "(0.0, 0.06345586478710175), multiplicity: 98",
          "(0.0, 0.06345586478710175), multiplicity: 98",
          "(0.0, 0.06345586478710175), multiplicity: 98",
          "(0.0, 0.06345586478710175), multiplicity: 98",
          "(0.0, 0.06345586478710175), multiplicity: 98",
          "(0.0, 0.06345586478710175), multiplicity: 98",
          "(0.0, 0.06345586478710175), multiplicity: 98",
          "(0.0, 0.06345586478710175), multiplicity: 98",
          "(0.0, 0.06345586478710175), multiplicity: 98",
          "(0.0, 0.06345586478710175), multiplicity: 98",
          "(0.0, 0.06345586478710175), multiplicity: 98",
          "(0.0, 0.06345586478710175), multiplicity: 98",
          "(0.0, 0.06345586478710175), multiplicity: 98",
          "(0.0, 0.06345586478710175), multiplicity: 98",
          "(0.0, 0.06345586478710175), multiplicity: 98",
          "(0.0, 0.06345586478710175), multiplicity: 98",
          "(0.0, 0.06345586478710175), multiplicity: 98",
          "(0.0, 0.06345586478710175), multiplicity: 98",
          "(0.0, 0.06345586478710175), multiplicity: 98",
          "(0.0, 0.06345586478710175), multiplicity: 98",
          "(0.0, 0.06345586478710175), multiplicity: 98",
          "(0.0, 0.06345586478710175), multiplicity: 98",
          "(0.0, 0.06345586478710175), multiplicity: 98",
          "(0.0, 0.06345586478710175), multiplicity: 98",
          "(0.0, 0.06345586478710175), multiplicity: 98",
          "(0.0, 0.06345586478710175), multiplicity: 98",
          "(0.0, 0.06345586478710175), multiplicity: 98",
          "(0.0, 0.06345586478710175), multiplicity: 98",
          "(0.0, 0.06345586478710175), multiplicity: 98",
          "(0.0, 0.06345586478710175), multiplicity: 98",
          "(0.0, 0.06345586478710175), multiplicity: 98",
          "(0.0, 0.06345586478710175), multiplicity: 98",
          "(0.0, 0.06345586478710175), multiplicity: 98",
          "(0.0, 0.06345586478710175), multiplicity: 98",
          "(0.0, 0.06345586478710175), multiplicity: 98",
          "(0.0, 0.06345586478710175), multiplicity: 98",
          "(0.0, 0.06345586478710175), multiplicity: 98",
          "(0.0, 0.06345586478710175), multiplicity: 98",
          "(0.0, 0.06345586478710175), multiplicity: 98",
          "(0.0, 0.06345586478710175), multiplicity: 98",
          "(0.0, 0.06345586478710175), multiplicity: 98",
          "(0.0, 0.06345586478710175), multiplicity: 98",
          "(0.0, 0.06345586478710175), multiplicity: 98",
          "(0.0, 0.06345586478710175), multiplicity: 98",
          "(0.0, 0.06345586478710175), multiplicity: 98",
          "(0.0, 0.06345586478710175), multiplicity: 98",
          "(0.0, 0.06345586478710175), multiplicity: 98",
          "(0.0, 0.06345586478710175), multiplicity: 98",
          "(0.0, 0.06345586478710175), multiplicity: 98",
          "(0.0, 0.06345586478710175), multiplicity: 98",
          "(0.0, 0.06345586478710175), multiplicity: 98",
          "(0.0, 0.06345586478710175), multiplicity: 98",
          "(0.0, 0.06345586478710175), multiplicity: 98",
          "(0.0, 0.06345586478710175), multiplicity: 98",
          "(0.0, 0.06345586478710175), multiplicity: 98",
          "(0.0, 0.06345586478710175), multiplicity: 98",
          "(0.0, 0.06345586478710175), multiplicity: 98",
          "(0.0, 0.06345586478710175), multiplicity: 98",
          "(0.0, 0.06345586478710175), multiplicity: 98",
          "(0.0, 0.06345586478710175), multiplicity: 98",
          "(0.0, 0.06345586478710175), multiplicity: 98",
          "(0.0, 0.06345586478710175), multiplicity: 98",
          "(0.0, 0.06345586478710175), multiplicity: 98",
          "(0.0, 0.06345586478710175), multiplicity: 98",
          "(0.0, 0.06345586478710175), multiplicity: 98",
          "(0.0, 0.06345586478710175), multiplicity: 98",
          "(0.0, 0.06345586478710175), multiplicity: 98"
         ],
         "mode": "markers",
         "name": "H0",
         "type": "scatter",
         "x": [
          0,
          0,
          0,
          0,
          0,
          0,
          0,
          0,
          0,
          0,
          0,
          0,
          0,
          0,
          0,
          0,
          0,
          0,
          0,
          0,
          0,
          0,
          0,
          0,
          0,
          0,
          0,
          0,
          0,
          0,
          0,
          0,
          0,
          0,
          0,
          0,
          0,
          0,
          0,
          0,
          0,
          0,
          0,
          0,
          0,
          0,
          0,
          0,
          0,
          0,
          0,
          0,
          0,
          0,
          0,
          0,
          0,
          0,
          0,
          0,
          0,
          0,
          0,
          0,
          0,
          0,
          0,
          0,
          0,
          0,
          0,
          0,
          0,
          0,
          0,
          0,
          0,
          0,
          0,
          0,
          0,
          0,
          0,
          0,
          0,
          0,
          0,
          0,
          0,
          0,
          0,
          0,
          0,
          0,
          0,
          0,
          0,
          0
         ],
         "y": [
          0.06345586478710175,
          0.06345586478710175,
          0.06345586478710175,
          0.06345586478710175,
          0.06345586478710175,
          0.06345586478710175,
          0.06345586478710175,
          0.06345586478710175,
          0.06345586478710175,
          0.06345586478710175,
          0.06345586478710175,
          0.06345586478710175,
          0.06345586478710175,
          0.06345586478710175,
          0.06345586478710175,
          0.06345586478710175,
          0.06345586478710175,
          0.06345586478710175,
          0.06345586478710175,
          0.06345586478710175,
          0.06345586478710175,
          0.06345586478710175,
          0.06345586478710175,
          0.06345586478710175,
          0.06345586478710175,
          0.06345586478710175,
          0.06345586478710175,
          0.06345586478710175,
          0.06345586478710175,
          0.06345586478710175,
          0.06345586478710175,
          0.06345586478710175,
          0.06345586478710175,
          0.06345586478710175,
          0.06345586478710175,
          0.06345586478710175,
          0.06345586478710175,
          0.06345586478710175,
          0.06345586478710175,
          0.06345586478710175,
          0.06345586478710175,
          0.06345586478710175,
          0.06345586478710175,
          0.06345586478710175,
          0.06345586478710175,
          0.06345586478710175,
          0.06345586478710175,
          0.06345586478710175,
          0.06345586478710175,
          0.06345586478710175,
          0.06345586478710175,
          0.06345586478710175,
          0.06345586478710175,
          0.06345586478710175,
          0.06345586478710175,
          0.06345586478710175,
          0.06345586478710175,
          0.06345586478710175,
          0.06345586478710175,
          0.06345586478710175,
          0.06345586478710175,
          0.06345586478710175,
          0.06345586478710175,
          0.06345586478710175,
          0.06345586478710175,
          0.06345586478710175,
          0.06345586478710175,
          0.06345586478710175,
          0.06345586478710175,
          0.06345586478710175,
          0.06345586478710175,
          0.06345586478710175,
          0.06345586478710175,
          0.06345586478710175,
          0.06345586478710175,
          0.06345586478710175,
          0.06345586478710175,
          0.06345586478710175,
          0.06345586478710175,
          0.06345586478710175,
          0.06345586478710175,
          0.06345586478710175,
          0.06345586478710175,
          0.06345586478710175,
          0.06345586478710175,
          0.06345586478710175,
          0.06345586478710175,
          0.06345586478710175,
          0.06345586478710175,
          0.06345586478710175,
          0.06345586478710175,
          0.06345586478710175,
          0.06345586478710175,
          0.06345586478710175,
          0.06345586478710175,
          0.06345586478710175,
          0.06345586478710175,
          0.06345586478710175
         ]
        },
        {
         "hoverinfo": "text",
         "hovertext": [
          "(0.06345586478710175, 1.7320507764816284)"
         ],
         "mode": "markers",
         "name": "H1",
         "type": "scatter",
         "x": [
          0.06345586478710175
         ],
         "y": [
          1.7320507764816284
         ]
        }
       ],
       "layout": {
        "height": 500,
        "plot_bgcolor": "white",
        "template": {
         "data": {
          "bar": [
           {
            "error_x": {
             "color": "#2a3f5f"
            },
            "error_y": {
             "color": "#2a3f5f"
            },
            "marker": {
             "line": {
              "color": "#E5ECF6",
              "width": 0.5
             },
             "pattern": {
              "fillmode": "overlay",
              "size": 10,
              "solidity": 0.2
             }
            },
            "type": "bar"
           }
          ],
          "barpolar": [
           {
            "marker": {
             "line": {
              "color": "#E5ECF6",
              "width": 0.5
             },
             "pattern": {
              "fillmode": "overlay",
              "size": 10,
              "solidity": 0.2
             }
            },
            "type": "barpolar"
           }
          ],
          "carpet": [
           {
            "aaxis": {
             "endlinecolor": "#2a3f5f",
             "gridcolor": "white",
             "linecolor": "white",
             "minorgridcolor": "white",
             "startlinecolor": "#2a3f5f"
            },
            "baxis": {
             "endlinecolor": "#2a3f5f",
             "gridcolor": "white",
             "linecolor": "white",
             "minorgridcolor": "white",
             "startlinecolor": "#2a3f5f"
            },
            "type": "carpet"
           }
          ],
          "choropleth": [
           {
            "colorbar": {
             "outlinewidth": 0,
             "ticks": ""
            },
            "type": "choropleth"
           }
          ],
          "contour": [
           {
            "colorbar": {
             "outlinewidth": 0,
             "ticks": ""
            },
            "colorscale": [
             [
              0,
              "#0d0887"
             ],
             [
              0.1111111111111111,
              "#46039f"
             ],
             [
              0.2222222222222222,
              "#7201a8"
             ],
             [
              0.3333333333333333,
              "#9c179e"
             ],
             [
              0.4444444444444444,
              "#bd3786"
             ],
             [
              0.5555555555555556,
              "#d8576b"
             ],
             [
              0.6666666666666666,
              "#ed7953"
             ],
             [
              0.7777777777777778,
              "#fb9f3a"
             ],
             [
              0.8888888888888888,
              "#fdca26"
             ],
             [
              1,
              "#f0f921"
             ]
            ],
            "type": "contour"
           }
          ],
          "contourcarpet": [
           {
            "colorbar": {
             "outlinewidth": 0,
             "ticks": ""
            },
            "type": "contourcarpet"
           }
          ],
          "heatmap": [
           {
            "colorbar": {
             "outlinewidth": 0,
             "ticks": ""
            },
            "colorscale": [
             [
              0,
              "#0d0887"
             ],
             [
              0.1111111111111111,
              "#46039f"
             ],
             [
              0.2222222222222222,
              "#7201a8"
             ],
             [
              0.3333333333333333,
              "#9c179e"
             ],
             [
              0.4444444444444444,
              "#bd3786"
             ],
             [
              0.5555555555555556,
              "#d8576b"
             ],
             [
              0.6666666666666666,
              "#ed7953"
             ],
             [
              0.7777777777777778,
              "#fb9f3a"
             ],
             [
              0.8888888888888888,
              "#fdca26"
             ],
             [
              1,
              "#f0f921"
             ]
            ],
            "type": "heatmap"
           }
          ],
          "heatmapgl": [
           {
            "colorbar": {
             "outlinewidth": 0,
             "ticks": ""
            },
            "colorscale": [
             [
              0,
              "#0d0887"
             ],
             [
              0.1111111111111111,
              "#46039f"
             ],
             [
              0.2222222222222222,
              "#7201a8"
             ],
             [
              0.3333333333333333,
              "#9c179e"
             ],
             [
              0.4444444444444444,
              "#bd3786"
             ],
             [
              0.5555555555555556,
              "#d8576b"
             ],
             [
              0.6666666666666666,
              "#ed7953"
             ],
             [
              0.7777777777777778,
              "#fb9f3a"
             ],
             [
              0.8888888888888888,
              "#fdca26"
             ],
             [
              1,
              "#f0f921"
             ]
            ],
            "type": "heatmapgl"
           }
          ],
          "histogram": [
           {
            "marker": {
             "pattern": {
              "fillmode": "overlay",
              "size": 10,
              "solidity": 0.2
             }
            },
            "type": "histogram"
           }
          ],
          "histogram2d": [
           {
            "colorbar": {
             "outlinewidth": 0,
             "ticks": ""
            },
            "colorscale": [
             [
              0,
              "#0d0887"
             ],
             [
              0.1111111111111111,
              "#46039f"
             ],
             [
              0.2222222222222222,
              "#7201a8"
             ],
             [
              0.3333333333333333,
              "#9c179e"
             ],
             [
              0.4444444444444444,
              "#bd3786"
             ],
             [
              0.5555555555555556,
              "#d8576b"
             ],
             [
              0.6666666666666666,
              "#ed7953"
             ],
             [
              0.7777777777777778,
              "#fb9f3a"
             ],
             [
              0.8888888888888888,
              "#fdca26"
             ],
             [
              1,
              "#f0f921"
             ]
            ],
            "type": "histogram2d"
           }
          ],
          "histogram2dcontour": [
           {
            "colorbar": {
             "outlinewidth": 0,
             "ticks": ""
            },
            "colorscale": [
             [
              0,
              "#0d0887"
             ],
             [
              0.1111111111111111,
              "#46039f"
             ],
             [
              0.2222222222222222,
              "#7201a8"
             ],
             [
              0.3333333333333333,
              "#9c179e"
             ],
             [
              0.4444444444444444,
              "#bd3786"
             ],
             [
              0.5555555555555556,
              "#d8576b"
             ],
             [
              0.6666666666666666,
              "#ed7953"
             ],
             [
              0.7777777777777778,
              "#fb9f3a"
             ],
             [
              0.8888888888888888,
              "#fdca26"
             ],
             [
              1,
              "#f0f921"
             ]
            ],
            "type": "histogram2dcontour"
           }
          ],
          "mesh3d": [
           {
            "colorbar": {
             "outlinewidth": 0,
             "ticks": ""
            },
            "type": "mesh3d"
           }
          ],
          "parcoords": [
           {
            "line": {
             "colorbar": {
              "outlinewidth": 0,
              "ticks": ""
             }
            },
            "type": "parcoords"
           }
          ],
          "pie": [
           {
            "automargin": true,
            "type": "pie"
           }
          ],
          "scatter": [
           {
            "marker": {
             "colorbar": {
              "outlinewidth": 0,
              "ticks": ""
             }
            },
            "type": "scatter"
           }
          ],
          "scatter3d": [
           {
            "line": {
             "colorbar": {
              "outlinewidth": 0,
              "ticks": ""
             }
            },
            "marker": {
             "colorbar": {
              "outlinewidth": 0,
              "ticks": ""
             }
            },
            "type": "scatter3d"
           }
          ],
          "scattercarpet": [
           {
            "marker": {
             "colorbar": {
              "outlinewidth": 0,
              "ticks": ""
             }
            },
            "type": "scattercarpet"
           }
          ],
          "scattergeo": [
           {
            "marker": {
             "colorbar": {
              "outlinewidth": 0,
              "ticks": ""
             }
            },
            "type": "scattergeo"
           }
          ],
          "scattergl": [
           {
            "marker": {
             "colorbar": {
              "outlinewidth": 0,
              "ticks": ""
             }
            },
            "type": "scattergl"
           }
          ],
          "scattermapbox": [
           {
            "marker": {
             "colorbar": {
              "outlinewidth": 0,
              "ticks": ""
             }
            },
            "type": "scattermapbox"
           }
          ],
          "scatterpolar": [
           {
            "marker": {
             "colorbar": {
              "outlinewidth": 0,
              "ticks": ""
             }
            },
            "type": "scatterpolar"
           }
          ],
          "scatterpolargl": [
           {
            "marker": {
             "colorbar": {
              "outlinewidth": 0,
              "ticks": ""
             }
            },
            "type": "scatterpolargl"
           }
          ],
          "scatterternary": [
           {
            "marker": {
             "colorbar": {
              "outlinewidth": 0,
              "ticks": ""
             }
            },
            "type": "scatterternary"
           }
          ],
          "surface": [
           {
            "colorbar": {
             "outlinewidth": 0,
             "ticks": ""
            },
            "colorscale": [
             [
              0,
              "#0d0887"
             ],
             [
              0.1111111111111111,
              "#46039f"
             ],
             [
              0.2222222222222222,
              "#7201a8"
             ],
             [
              0.3333333333333333,
              "#9c179e"
             ],
             [
              0.4444444444444444,
              "#bd3786"
             ],
             [
              0.5555555555555556,
              "#d8576b"
             ],
             [
              0.6666666666666666,
              "#ed7953"
             ],
             [
              0.7777777777777778,
              "#fb9f3a"
             ],
             [
              0.8888888888888888,
              "#fdca26"
             ],
             [
              1,
              "#f0f921"
             ]
            ],
            "type": "surface"
           }
          ],
          "table": [
           {
            "cells": {
             "fill": {
              "color": "#EBF0F8"
             },
             "line": {
              "color": "white"
             }
            },
            "header": {
             "fill": {
              "color": "#C8D4E3"
             },
             "line": {
              "color": "white"
             }
            },
            "type": "table"
           }
          ]
         },
         "layout": {
          "annotationdefaults": {
           "arrowcolor": "#2a3f5f",
           "arrowhead": 0,
           "arrowwidth": 1
          },
          "autotypenumbers": "strict",
          "coloraxis": {
           "colorbar": {
            "outlinewidth": 0,
            "ticks": ""
           }
          },
          "colorscale": {
           "diverging": [
            [
             0,
             "#8e0152"
            ],
            [
             0.1,
             "#c51b7d"
            ],
            [
             0.2,
             "#de77ae"
            ],
            [
             0.3,
             "#f1b6da"
            ],
            [
             0.4,
             "#fde0ef"
            ],
            [
             0.5,
             "#f7f7f7"
            ],
            [
             0.6,
             "#e6f5d0"
            ],
            [
             0.7,
             "#b8e186"
            ],
            [
             0.8,
             "#7fbc41"
            ],
            [
             0.9,
             "#4d9221"
            ],
            [
             1,
             "#276419"
            ]
           ],
           "sequential": [
            [
             0,
             "#0d0887"
            ],
            [
             0.1111111111111111,
             "#46039f"
            ],
            [
             0.2222222222222222,
             "#7201a8"
            ],
            [
             0.3333333333333333,
             "#9c179e"
            ],
            [
             0.4444444444444444,
             "#bd3786"
            ],
            [
             0.5555555555555556,
             "#d8576b"
            ],
            [
             0.6666666666666666,
             "#ed7953"
            ],
            [
             0.7777777777777778,
             "#fb9f3a"
            ],
            [
             0.8888888888888888,
             "#fdca26"
            ],
            [
             1,
             "#f0f921"
            ]
           ],
           "sequentialminus": [
            [
             0,
             "#0d0887"
            ],
            [
             0.1111111111111111,
             "#46039f"
            ],
            [
             0.2222222222222222,
             "#7201a8"
            ],
            [
             0.3333333333333333,
             "#9c179e"
            ],
            [
             0.4444444444444444,
             "#bd3786"
            ],
            [
             0.5555555555555556,
             "#d8576b"
            ],
            [
             0.6666666666666666,
             "#ed7953"
            ],
            [
             0.7777777777777778,
             "#fb9f3a"
            ],
            [
             0.8888888888888888,
             "#fdca26"
            ],
            [
             1,
             "#f0f921"
            ]
           ]
          },
          "colorway": [
           "#636efa",
           "#EF553B",
           "#00cc96",
           "#ab63fa",
           "#FFA15A",
           "#19d3f3",
           "#FF6692",
           "#B6E880",
           "#FF97FF",
           "#FECB52"
          ],
          "font": {
           "color": "#2a3f5f"
          },
          "geo": {
           "bgcolor": "white",
           "lakecolor": "white",
           "landcolor": "#E5ECF6",
           "showlakes": true,
           "showland": true,
           "subunitcolor": "white"
          },
          "hoverlabel": {
           "align": "left"
          },
          "hovermode": "closest",
          "mapbox": {
           "style": "light"
          },
          "paper_bgcolor": "white",
          "plot_bgcolor": "#E5ECF6",
          "polar": {
           "angularaxis": {
            "gridcolor": "white",
            "linecolor": "white",
            "ticks": ""
           },
           "bgcolor": "#E5ECF6",
           "radialaxis": {
            "gridcolor": "white",
            "linecolor": "white",
            "ticks": ""
           }
          },
          "scene": {
           "xaxis": {
            "backgroundcolor": "#E5ECF6",
            "gridcolor": "white",
            "gridwidth": 2,
            "linecolor": "white",
            "showbackground": true,
            "ticks": "",
            "zerolinecolor": "white"
           },
           "yaxis": {
            "backgroundcolor": "#E5ECF6",
            "gridcolor": "white",
            "gridwidth": 2,
            "linecolor": "white",
            "showbackground": true,
            "ticks": "",
            "zerolinecolor": "white"
           },
           "zaxis": {
            "backgroundcolor": "#E5ECF6",
            "gridcolor": "white",
            "gridwidth": 2,
            "linecolor": "white",
            "showbackground": true,
            "ticks": "",
            "zerolinecolor": "white"
           }
          },
          "shapedefaults": {
           "line": {
            "color": "#2a3f5f"
           }
          },
          "ternary": {
           "aaxis": {
            "gridcolor": "white",
            "linecolor": "white",
            "ticks": ""
           },
           "baxis": {
            "gridcolor": "white",
            "linecolor": "white",
            "ticks": ""
           },
           "bgcolor": "#E5ECF6",
           "caxis": {
            "gridcolor": "white",
            "linecolor": "white",
            "ticks": ""
           }
          },
          "title": {
           "x": 0.05
          },
          "xaxis": {
           "automargin": true,
           "gridcolor": "white",
           "linecolor": "white",
           "ticks": "",
           "title": {
            "standoff": 15
           },
           "zerolinecolor": "white",
           "zerolinewidth": 2
          },
          "yaxis": {
           "automargin": true,
           "gridcolor": "white",
           "linecolor": "white",
           "ticks": "",
           "title": {
            "standoff": 15
           },
           "zerolinecolor": "white",
           "zerolinewidth": 2
          }
         }
        },
        "width": 500,
        "xaxis": {
         "autorange": false,
         "exponentformat": "e",
         "linecolor": "black",
         "linewidth": 1,
         "mirror": false,
         "range": [
          -0.03464101552963257,
          1.766691792011261
         ],
         "showexponent": "all",
         "showline": true,
         "side": "bottom",
         "ticks": "outside",
         "title": {
          "text": "Birth"
         },
         "type": "linear",
         "zeroline": true
        },
        "yaxis": {
         "autorange": false,
         "exponentformat": "e",
         "linecolor": "black",
         "linewidth": 1,
         "mirror": false,
         "range": [
          -0.03464101552963257,
          1.766691792011261
         ],
         "scaleanchor": "x",
         "scaleratio": 1,
         "showexponent": "all",
         "showline": true,
         "side": "left",
         "ticks": "outside",
         "title": {
          "text": "Death"
         },
         "type": "linear",
         "zeroline": true
        }
       }
      },
      "text/html": [
       "<div>                            <div id=\"e14d8d43-d08a-44e8-9433-42de71b583cd\" class=\"plotly-graph-div\" style=\"height:500px; width:500px;\"></div>            <script type=\"text/javascript\">                require([\"plotly\"], function(Plotly) {                    window.PLOTLYENV=window.PLOTLYENV || {};                                    if (document.getElementById(\"e14d8d43-d08a-44e8-9433-42de71b583cd\")) {                    Plotly.newPlot(                        \"e14d8d43-d08a-44e8-9433-42de71b583cd\",                        [{\"hoverinfo\":\"none\",\"line\":{\"color\":\"black\",\"dash\":\"dash\",\"width\":1},\"mode\":\"lines\",\"showlegend\":false,\"type\":\"scatter\",\"x\":[-0.03464101552963257,1.766691792011261],\"y\":[-0.03464101552963257,1.766691792011261]},{\"hoverinfo\":\"text\",\"hovertext\":[\"(0.0, 0.06345586478710175), multiplicity: 98\",\"(0.0, 0.06345586478710175), multiplicity: 98\",\"(0.0, 0.06345586478710175), multiplicity: 98\",\"(0.0, 0.06345586478710175), multiplicity: 98\",\"(0.0, 0.06345586478710175), multiplicity: 98\",\"(0.0, 0.06345586478710175), multiplicity: 98\",\"(0.0, 0.06345586478710175), multiplicity: 98\",\"(0.0, 0.06345586478710175), multiplicity: 98\",\"(0.0, 0.06345586478710175), multiplicity: 98\",\"(0.0, 0.06345586478710175), multiplicity: 98\",\"(0.0, 0.06345586478710175), multiplicity: 98\",\"(0.0, 0.06345586478710175), multiplicity: 98\",\"(0.0, 0.06345586478710175), multiplicity: 98\",\"(0.0, 0.06345586478710175), multiplicity: 98\",\"(0.0, 0.06345586478710175), multiplicity: 98\",\"(0.0, 0.06345586478710175), multiplicity: 98\",\"(0.0, 0.06345586478710175), multiplicity: 98\",\"(0.0, 0.06345586478710175), multiplicity: 98\",\"(0.0, 0.06345586478710175), multiplicity: 98\",\"(0.0, 0.06345586478710175), multiplicity: 98\",\"(0.0, 0.06345586478710175), multiplicity: 98\",\"(0.0, 0.06345586478710175), multiplicity: 98\",\"(0.0, 0.06345586478710175), multiplicity: 98\",\"(0.0, 0.06345586478710175), multiplicity: 98\",\"(0.0, 0.06345586478710175), multiplicity: 98\",\"(0.0, 0.06345586478710175), multiplicity: 98\",\"(0.0, 0.06345586478710175), multiplicity: 98\",\"(0.0, 0.06345586478710175), multiplicity: 98\",\"(0.0, 0.06345586478710175), multiplicity: 98\",\"(0.0, 0.06345586478710175), multiplicity: 98\",\"(0.0, 0.06345586478710175), multiplicity: 98\",\"(0.0, 0.06345586478710175), multiplicity: 98\",\"(0.0, 0.06345586478710175), multiplicity: 98\",\"(0.0, 0.06345586478710175), multiplicity: 98\",\"(0.0, 0.06345586478710175), multiplicity: 98\",\"(0.0, 0.06345586478710175), multiplicity: 98\",\"(0.0, 0.06345586478710175), multiplicity: 98\",\"(0.0, 0.06345586478710175), multiplicity: 98\",\"(0.0, 0.06345586478710175), multiplicity: 98\",\"(0.0, 0.06345586478710175), multiplicity: 98\",\"(0.0, 0.06345586478710175), multiplicity: 98\",\"(0.0, 0.06345586478710175), multiplicity: 98\",\"(0.0, 0.06345586478710175), multiplicity: 98\",\"(0.0, 0.06345586478710175), multiplicity: 98\",\"(0.0, 0.06345586478710175), multiplicity: 98\",\"(0.0, 0.06345586478710175), multiplicity: 98\",\"(0.0, 0.06345586478710175), multiplicity: 98\",\"(0.0, 0.06345586478710175), multiplicity: 98\",\"(0.0, 0.06345586478710175), multiplicity: 98\",\"(0.0, 0.06345586478710175), multiplicity: 98\",\"(0.0, 0.06345586478710175), multiplicity: 98\",\"(0.0, 0.06345586478710175), multiplicity: 98\",\"(0.0, 0.06345586478710175), multiplicity: 98\",\"(0.0, 0.06345586478710175), multiplicity: 98\",\"(0.0, 0.06345586478710175), multiplicity: 98\",\"(0.0, 0.06345586478710175), multiplicity: 98\",\"(0.0, 0.06345586478710175), multiplicity: 98\",\"(0.0, 0.06345586478710175), multiplicity: 98\",\"(0.0, 0.06345586478710175), multiplicity: 98\",\"(0.0, 0.06345586478710175), multiplicity: 98\",\"(0.0, 0.06345586478710175), multiplicity: 98\",\"(0.0, 0.06345586478710175), multiplicity: 98\",\"(0.0, 0.06345586478710175), multiplicity: 98\",\"(0.0, 0.06345586478710175), multiplicity: 98\",\"(0.0, 0.06345586478710175), multiplicity: 98\",\"(0.0, 0.06345586478710175), multiplicity: 98\",\"(0.0, 0.06345586478710175), multiplicity: 98\",\"(0.0, 0.06345586478710175), multiplicity: 98\",\"(0.0, 0.06345586478710175), multiplicity: 98\",\"(0.0, 0.06345586478710175), multiplicity: 98\",\"(0.0, 0.06345586478710175), multiplicity: 98\",\"(0.0, 0.06345586478710175), multiplicity: 98\",\"(0.0, 0.06345586478710175), multiplicity: 98\",\"(0.0, 0.06345586478710175), multiplicity: 98\",\"(0.0, 0.06345586478710175), multiplicity: 98\",\"(0.0, 0.06345586478710175), multiplicity: 98\",\"(0.0, 0.06345586478710175), multiplicity: 98\",\"(0.0, 0.06345586478710175), multiplicity: 98\",\"(0.0, 0.06345586478710175), multiplicity: 98\",\"(0.0, 0.06345586478710175), multiplicity: 98\",\"(0.0, 0.06345586478710175), multiplicity: 98\",\"(0.0, 0.06345586478710175), multiplicity: 98\",\"(0.0, 0.06345586478710175), multiplicity: 98\",\"(0.0, 0.06345586478710175), multiplicity: 98\",\"(0.0, 0.06345586478710175), multiplicity: 98\",\"(0.0, 0.06345586478710175), multiplicity: 98\",\"(0.0, 0.06345586478710175), multiplicity: 98\",\"(0.0, 0.06345586478710175), multiplicity: 98\",\"(0.0, 0.06345586478710175), multiplicity: 98\",\"(0.0, 0.06345586478710175), multiplicity: 98\",\"(0.0, 0.06345586478710175), multiplicity: 98\",\"(0.0, 0.06345586478710175), multiplicity: 98\",\"(0.0, 0.06345586478710175), multiplicity: 98\",\"(0.0, 0.06345586478710175), multiplicity: 98\",\"(0.0, 0.06345586478710175), multiplicity: 98\",\"(0.0, 0.06345586478710175), multiplicity: 98\",\"(0.0, 0.06345586478710175), multiplicity: 98\",\"(0.0, 0.06345586478710175), multiplicity: 98\"],\"mode\":\"markers\",\"name\":\"H0\",\"type\":\"scatter\",\"x\":[0.0,0.0,0.0,0.0,0.0,0.0,0.0,0.0,0.0,0.0,0.0,0.0,0.0,0.0,0.0,0.0,0.0,0.0,0.0,0.0,0.0,0.0,0.0,0.0,0.0,0.0,0.0,0.0,0.0,0.0,0.0,0.0,0.0,0.0,0.0,0.0,0.0,0.0,0.0,0.0,0.0,0.0,0.0,0.0,0.0,0.0,0.0,0.0,0.0,0.0,0.0,0.0,0.0,0.0,0.0,0.0,0.0,0.0,0.0,0.0,0.0,0.0,0.0,0.0,0.0,0.0,0.0,0.0,0.0,0.0,0.0,0.0,0.0,0.0,0.0,0.0,0.0,0.0,0.0,0.0,0.0,0.0,0.0,0.0,0.0,0.0,0.0,0.0,0.0,0.0,0.0,0.0,0.0,0.0,0.0,0.0,0.0,0.0],\"y\":[0.06345586478710175,0.06345586478710175,0.06345586478710175,0.06345586478710175,0.06345586478710175,0.06345586478710175,0.06345586478710175,0.06345586478710175,0.06345586478710175,0.06345586478710175,0.06345586478710175,0.06345586478710175,0.06345586478710175,0.06345586478710175,0.06345586478710175,0.06345586478710175,0.06345586478710175,0.06345586478710175,0.06345586478710175,0.06345586478710175,0.06345586478710175,0.06345586478710175,0.06345586478710175,0.06345586478710175,0.06345586478710175,0.06345586478710175,0.06345586478710175,0.06345586478710175,0.06345586478710175,0.06345586478710175,0.06345586478710175,0.06345586478710175,0.06345586478710175,0.06345586478710175,0.06345586478710175,0.06345586478710175,0.06345586478710175,0.06345586478710175,0.06345586478710175,0.06345586478710175,0.06345586478710175,0.06345586478710175,0.06345586478710175,0.06345586478710175,0.06345586478710175,0.06345586478710175,0.06345586478710175,0.06345586478710175,0.06345586478710175,0.06345586478710175,0.06345586478710175,0.06345586478710175,0.06345586478710175,0.06345586478710175,0.06345586478710175,0.06345586478710175,0.06345586478710175,0.06345586478710175,0.06345586478710175,0.06345586478710175,0.06345586478710175,0.06345586478710175,0.06345586478710175,0.06345586478710175,0.06345586478710175,0.06345586478710175,0.06345586478710175,0.06345586478710175,0.06345586478710175,0.06345586478710175,0.06345586478710175,0.06345586478710175,0.06345586478710175,0.06345586478710175,0.06345586478710175,0.06345586478710175,0.06345586478710175,0.06345586478710175,0.06345586478710175,0.06345586478710175,0.06345586478710175,0.06345586478710175,0.06345586478710175,0.06345586478710175,0.06345586478710175,0.06345586478710175,0.06345586478710175,0.06345586478710175,0.06345586478710175,0.06345586478710175,0.06345586478710175,0.06345586478710175,0.06345586478710175,0.06345586478710175,0.06345586478710175,0.06345586478710175,0.06345586478710175,0.06345586478710175]},{\"hoverinfo\":\"text\",\"hovertext\":[\"(0.06345586478710175, 1.7320507764816284)\"],\"mode\":\"markers\",\"name\":\"H1\",\"type\":\"scatter\",\"x\":[0.06345586478710175],\"y\":[1.7320507764816284]}],                        {\"height\":500,\"plot_bgcolor\":\"white\",\"template\":{\"data\":{\"bar\":[{\"error_x\":{\"color\":\"#2a3f5f\"},\"error_y\":{\"color\":\"#2a3f5f\"},\"marker\":{\"line\":{\"color\":\"#E5ECF6\",\"width\":0.5},\"pattern\":{\"fillmode\":\"overlay\",\"size\":10,\"solidity\":0.2}},\"type\":\"bar\"}],\"barpolar\":[{\"marker\":{\"line\":{\"color\":\"#E5ECF6\",\"width\":0.5},\"pattern\":{\"fillmode\":\"overlay\",\"size\":10,\"solidity\":0.2}},\"type\":\"barpolar\"}],\"carpet\":[{\"aaxis\":{\"endlinecolor\":\"#2a3f5f\",\"gridcolor\":\"white\",\"linecolor\":\"white\",\"minorgridcolor\":\"white\",\"startlinecolor\":\"#2a3f5f\"},\"baxis\":{\"endlinecolor\":\"#2a3f5f\",\"gridcolor\":\"white\",\"linecolor\":\"white\",\"minorgridcolor\":\"white\",\"startlinecolor\":\"#2a3f5f\"},\"type\":\"carpet\"}],\"choropleth\":[{\"colorbar\":{\"outlinewidth\":0,\"ticks\":\"\"},\"type\":\"choropleth\"}],\"contour\":[{\"colorbar\":{\"outlinewidth\":0,\"ticks\":\"\"},\"colorscale\":[[0.0,\"#0d0887\"],[0.1111111111111111,\"#46039f\"],[0.2222222222222222,\"#7201a8\"],[0.3333333333333333,\"#9c179e\"],[0.4444444444444444,\"#bd3786\"],[0.5555555555555556,\"#d8576b\"],[0.6666666666666666,\"#ed7953\"],[0.7777777777777778,\"#fb9f3a\"],[0.8888888888888888,\"#fdca26\"],[1.0,\"#f0f921\"]],\"type\":\"contour\"}],\"contourcarpet\":[{\"colorbar\":{\"outlinewidth\":0,\"ticks\":\"\"},\"type\":\"contourcarpet\"}],\"heatmap\":[{\"colorbar\":{\"outlinewidth\":0,\"ticks\":\"\"},\"colorscale\":[[0.0,\"#0d0887\"],[0.1111111111111111,\"#46039f\"],[0.2222222222222222,\"#7201a8\"],[0.3333333333333333,\"#9c179e\"],[0.4444444444444444,\"#bd3786\"],[0.5555555555555556,\"#d8576b\"],[0.6666666666666666,\"#ed7953\"],[0.7777777777777778,\"#fb9f3a\"],[0.8888888888888888,\"#fdca26\"],[1.0,\"#f0f921\"]],\"type\":\"heatmap\"}],\"heatmapgl\":[{\"colorbar\":{\"outlinewidth\":0,\"ticks\":\"\"},\"colorscale\":[[0.0,\"#0d0887\"],[0.1111111111111111,\"#46039f\"],[0.2222222222222222,\"#7201a8\"],[0.3333333333333333,\"#9c179e\"],[0.4444444444444444,\"#bd3786\"],[0.5555555555555556,\"#d8576b\"],[0.6666666666666666,\"#ed7953\"],[0.7777777777777778,\"#fb9f3a\"],[0.8888888888888888,\"#fdca26\"],[1.0,\"#f0f921\"]],\"type\":\"heatmapgl\"}],\"histogram\":[{\"marker\":{\"pattern\":{\"fillmode\":\"overlay\",\"size\":10,\"solidity\":0.2}},\"type\":\"histogram\"}],\"histogram2d\":[{\"colorbar\":{\"outlinewidth\":0,\"ticks\":\"\"},\"colorscale\":[[0.0,\"#0d0887\"],[0.1111111111111111,\"#46039f\"],[0.2222222222222222,\"#7201a8\"],[0.3333333333333333,\"#9c179e\"],[0.4444444444444444,\"#bd3786\"],[0.5555555555555556,\"#d8576b\"],[0.6666666666666666,\"#ed7953\"],[0.7777777777777778,\"#fb9f3a\"],[0.8888888888888888,\"#fdca26\"],[1.0,\"#f0f921\"]],\"type\":\"histogram2d\"}],\"histogram2dcontour\":[{\"colorbar\":{\"outlinewidth\":0,\"ticks\":\"\"},\"colorscale\":[[0.0,\"#0d0887\"],[0.1111111111111111,\"#46039f\"],[0.2222222222222222,\"#7201a8\"],[0.3333333333333333,\"#9c179e\"],[0.4444444444444444,\"#bd3786\"],[0.5555555555555556,\"#d8576b\"],[0.6666666666666666,\"#ed7953\"],[0.7777777777777778,\"#fb9f3a\"],[0.8888888888888888,\"#fdca26\"],[1.0,\"#f0f921\"]],\"type\":\"histogram2dcontour\"}],\"mesh3d\":[{\"colorbar\":{\"outlinewidth\":0,\"ticks\":\"\"},\"type\":\"mesh3d\"}],\"parcoords\":[{\"line\":{\"colorbar\":{\"outlinewidth\":0,\"ticks\":\"\"}},\"type\":\"parcoords\"}],\"pie\":[{\"automargin\":true,\"type\":\"pie\"}],\"scatter\":[{\"marker\":{\"colorbar\":{\"outlinewidth\":0,\"ticks\":\"\"}},\"type\":\"scatter\"}],\"scatter3d\":[{\"line\":{\"colorbar\":{\"outlinewidth\":0,\"ticks\":\"\"}},\"marker\":{\"colorbar\":{\"outlinewidth\":0,\"ticks\":\"\"}},\"type\":\"scatter3d\"}],\"scattercarpet\":[{\"marker\":{\"colorbar\":{\"outlinewidth\":0,\"ticks\":\"\"}},\"type\":\"scattercarpet\"}],\"scattergeo\":[{\"marker\":{\"colorbar\":{\"outlinewidth\":0,\"ticks\":\"\"}},\"type\":\"scattergeo\"}],\"scattergl\":[{\"marker\":{\"colorbar\":{\"outlinewidth\":0,\"ticks\":\"\"}},\"type\":\"scattergl\"}],\"scattermapbox\":[{\"marker\":{\"colorbar\":{\"outlinewidth\":0,\"ticks\":\"\"}},\"type\":\"scattermapbox\"}],\"scatterpolar\":[{\"marker\":{\"colorbar\":{\"outlinewidth\":0,\"ticks\":\"\"}},\"type\":\"scatterpolar\"}],\"scatterpolargl\":[{\"marker\":{\"colorbar\":{\"outlinewidth\":0,\"ticks\":\"\"}},\"type\":\"scatterpolargl\"}],\"scatterternary\":[{\"marker\":{\"colorbar\":{\"outlinewidth\":0,\"ticks\":\"\"}},\"type\":\"scatterternary\"}],\"surface\":[{\"colorbar\":{\"outlinewidth\":0,\"ticks\":\"\"},\"colorscale\":[[0.0,\"#0d0887\"],[0.1111111111111111,\"#46039f\"],[0.2222222222222222,\"#7201a8\"],[0.3333333333333333,\"#9c179e\"],[0.4444444444444444,\"#bd3786\"],[0.5555555555555556,\"#d8576b\"],[0.6666666666666666,\"#ed7953\"],[0.7777777777777778,\"#fb9f3a\"],[0.8888888888888888,\"#fdca26\"],[1.0,\"#f0f921\"]],\"type\":\"surface\"}],\"table\":[{\"cells\":{\"fill\":{\"color\":\"#EBF0F8\"},\"line\":{\"color\":\"white\"}},\"header\":{\"fill\":{\"color\":\"#C8D4E3\"},\"line\":{\"color\":\"white\"}},\"type\":\"table\"}]},\"layout\":{\"annotationdefaults\":{\"arrowcolor\":\"#2a3f5f\",\"arrowhead\":0,\"arrowwidth\":1},\"autotypenumbers\":\"strict\",\"coloraxis\":{\"colorbar\":{\"outlinewidth\":0,\"ticks\":\"\"}},\"colorscale\":{\"diverging\":[[0,\"#8e0152\"],[0.1,\"#c51b7d\"],[0.2,\"#de77ae\"],[0.3,\"#f1b6da\"],[0.4,\"#fde0ef\"],[0.5,\"#f7f7f7\"],[0.6,\"#e6f5d0\"],[0.7,\"#b8e186\"],[0.8,\"#7fbc41\"],[0.9,\"#4d9221\"],[1,\"#276419\"]],\"sequential\":[[0.0,\"#0d0887\"],[0.1111111111111111,\"#46039f\"],[0.2222222222222222,\"#7201a8\"],[0.3333333333333333,\"#9c179e\"],[0.4444444444444444,\"#bd3786\"],[0.5555555555555556,\"#d8576b\"],[0.6666666666666666,\"#ed7953\"],[0.7777777777777778,\"#fb9f3a\"],[0.8888888888888888,\"#fdca26\"],[1.0,\"#f0f921\"]],\"sequentialminus\":[[0.0,\"#0d0887\"],[0.1111111111111111,\"#46039f\"],[0.2222222222222222,\"#7201a8\"],[0.3333333333333333,\"#9c179e\"],[0.4444444444444444,\"#bd3786\"],[0.5555555555555556,\"#d8576b\"],[0.6666666666666666,\"#ed7953\"],[0.7777777777777778,\"#fb9f3a\"],[0.8888888888888888,\"#fdca26\"],[1.0,\"#f0f921\"]]},\"colorway\":[\"#636efa\",\"#EF553B\",\"#00cc96\",\"#ab63fa\",\"#FFA15A\",\"#19d3f3\",\"#FF6692\",\"#B6E880\",\"#FF97FF\",\"#FECB52\"],\"font\":{\"color\":\"#2a3f5f\"},\"geo\":{\"bgcolor\":\"white\",\"lakecolor\":\"white\",\"landcolor\":\"#E5ECF6\",\"showlakes\":true,\"showland\":true,\"subunitcolor\":\"white\"},\"hoverlabel\":{\"align\":\"left\"},\"hovermode\":\"closest\",\"mapbox\":{\"style\":\"light\"},\"paper_bgcolor\":\"white\",\"plot_bgcolor\":\"#E5ECF6\",\"polar\":{\"angularaxis\":{\"gridcolor\":\"white\",\"linecolor\":\"white\",\"ticks\":\"\"},\"bgcolor\":\"#E5ECF6\",\"radialaxis\":{\"gridcolor\":\"white\",\"linecolor\":\"white\",\"ticks\":\"\"}},\"scene\":{\"xaxis\":{\"backgroundcolor\":\"#E5ECF6\",\"gridcolor\":\"white\",\"gridwidth\":2,\"linecolor\":\"white\",\"showbackground\":true,\"ticks\":\"\",\"zerolinecolor\":\"white\"},\"yaxis\":{\"backgroundcolor\":\"#E5ECF6\",\"gridcolor\":\"white\",\"gridwidth\":2,\"linecolor\":\"white\",\"showbackground\":true,\"ticks\":\"\",\"zerolinecolor\":\"white\"},\"zaxis\":{\"backgroundcolor\":\"#E5ECF6\",\"gridcolor\":\"white\",\"gridwidth\":2,\"linecolor\":\"white\",\"showbackground\":true,\"ticks\":\"\",\"zerolinecolor\":\"white\"}},\"shapedefaults\":{\"line\":{\"color\":\"#2a3f5f\"}},\"ternary\":{\"aaxis\":{\"gridcolor\":\"white\",\"linecolor\":\"white\",\"ticks\":\"\"},\"baxis\":{\"gridcolor\":\"white\",\"linecolor\":\"white\",\"ticks\":\"\"},\"bgcolor\":\"#E5ECF6\",\"caxis\":{\"gridcolor\":\"white\",\"linecolor\":\"white\",\"ticks\":\"\"}},\"title\":{\"x\":0.05},\"xaxis\":{\"automargin\":true,\"gridcolor\":\"white\",\"linecolor\":\"white\",\"ticks\":\"\",\"title\":{\"standoff\":15},\"zerolinecolor\":\"white\",\"zerolinewidth\":2},\"yaxis\":{\"automargin\":true,\"gridcolor\":\"white\",\"linecolor\":\"white\",\"ticks\":\"\",\"title\":{\"standoff\":15},\"zerolinecolor\":\"white\",\"zerolinewidth\":2}}},\"width\":500,\"xaxis\":{\"autorange\":false,\"exponentformat\":\"e\",\"linecolor\":\"black\",\"linewidth\":1,\"mirror\":false,\"range\":[-0.03464101552963257,1.766691792011261],\"showexponent\":\"all\",\"showline\":true,\"side\":\"bottom\",\"ticks\":\"outside\",\"title\":{\"text\":\"Birth\"},\"type\":\"linear\",\"zeroline\":true},\"yaxis\":{\"autorange\":false,\"exponentformat\":\"e\",\"linecolor\":\"black\",\"linewidth\":1,\"mirror\":false,\"range\":[-0.03464101552963257,1.766691792011261],\"scaleanchor\":\"x\",\"scaleratio\":1,\"showexponent\":\"all\",\"showline\":true,\"side\":\"left\",\"ticks\":\"outside\",\"title\":{\"text\":\"Death\"},\"type\":\"linear\",\"zeroline\":true}},                        {\"responsive\": true}                    ).then(function(){\n",
       "                            \n",
       "var gd = document.getElementById('e14d8d43-d08a-44e8-9433-42de71b583cd');\n",
       "var x = new MutationObserver(function (mutations, observer) {{\n",
       "        var display = window.getComputedStyle(gd).display;\n",
       "        if (!display || display === 'none') {{\n",
       "            console.log([gd, 'removed!']);\n",
       "            Plotly.purge(gd);\n",
       "            observer.disconnect();\n",
       "        }}\n",
       "}});\n",
       "\n",
       "// Listen for the removal of the full notebook cells\n",
       "var notebookContainer = gd.closest('#notebook-container');\n",
       "if (notebookContainer) {{\n",
       "    x.observe(notebookContainer, {childList: true});\n",
       "}}\n",
       "\n",
       "// Listen for the clearing of the current output cell\n",
       "var outputEl = gd.closest('.output');\n",
       "if (outputEl) {{\n",
       "    x.observe(outputEl, {childList: true});\n",
       "}}\n",
       "\n",
       "                        })                };                });            </script>        </div>"
      ]
     },
     "metadata": {},
     "output_type": "display_data"
    }
   ],
   "source": [
    "plot_diagram(diagrams[0])"
   ]
  },
  {
   "cell_type": "code",
   "execution_count": 163,
   "metadata": {},
   "outputs": [
    {
     "data": {
      "application/vnd.plotly.v1+json": {
       "config": {
        "plotlyServerURL": "https://plot.ly"
       },
       "data": [
        {
         "hoverinfo": "none",
         "line": {
          "color": "black",
          "dash": "dash",
          "width": 1
         },
         "mode": "lines",
         "showlegend": false,
         "type": "scatter",
         "x": [
          -0.026170828342437745,
          1.334712245464325
         ],
         "y": [
          -0.026170828342437745,
          1.334712245464325
         ]
        },
        {
         "hoverinfo": "text",
         "hovertext": [
          "(0.0, 0.023360339924693108)",
          "(0.0, 0.02550288289785385)",
          "(0.0, 0.02662006951868534)",
          "(0.0, 0.028986498713493347)",
          "(0.0, 0.02990426868200302)",
          "(0.0, 0.036535199731588364)",
          "(0.0, 0.04356556758284569)",
          "(0.0, 0.043691955506801605)",
          "(0.0, 0.04436086490750313)",
          "(0.0, 0.044963862746953964)",
          "(0.0, 0.0450407899916172)",
          "(0.0, 0.045434899628162384)",
          "(0.0, 0.047468461096286774)",
          "(0.0, 0.0499919168651104)",
          "(0.0, 0.05113854631781578)",
          "(0.0, 0.05187298730015755)",
          "(0.0, 0.05302615091204643)",
          "(0.0, 0.05560160428285599)",
          "(0.0, 0.059619467705488205)",
          "(0.0, 0.06275061517953873)",
          "(0.0, 0.06499899923801422)",
          "(0.0, 0.06505826860666275)",
          "(0.0, 0.06734733283519745)",
          "(0.0, 0.06859446316957474)",
          "(0.0, 0.06930051743984222)",
          "(0.0, 0.0712001770734787)",
          "(0.0, 0.07200857996940613)",
          "(0.0, 0.07586296647787094)",
          "(0.0, 0.07762410491704941)",
          "(0.0, 0.0795627236366272)",
          "(0.0, 0.08145316690206528)",
          "(0.0, 0.08255935460329056)",
          "(0.0, 0.08317038416862488)",
          "(0.0, 0.08563476800918579)",
          "(0.0, 0.08702683448791504)",
          "(0.0, 0.08742913603782654)",
          "(0.0, 0.08796590566635132)",
          "(0.0, 0.0887741670012474)",
          "(0.0, 0.08890336006879807)",
          "(0.0, 0.09024131298065186)",
          "(0.0, 0.09168920665979385)",
          "(0.0, 0.09394197911024094)",
          "(0.0, 0.09482623636722565)",
          "(0.0, 0.09525145590305328)",
          "(0.0, 0.09536879509687424)",
          "(0.0, 0.09700942039489746)",
          "(0.0, 0.09793438762426376)",
          "(0.0, 0.09846946597099304)",
          "(0.0, 0.10428094863891602)",
          "(0.0, 0.10488085448741913)",
          "(0.0, 0.10659388452768326)",
          "(0.0, 0.10853863507509232)",
          "(0.0, 0.11033866554498672)",
          "(0.0, 0.1105978861451149)",
          "(0.0, 0.11169198155403137)",
          "(0.0, 0.11396130919456482)",
          "(0.0, 0.11509247124195099)",
          "(0.0, 0.11523844301700592)",
          "(0.0, 0.11633428186178207)",
          "(0.0, 0.12262004613876343)",
          "(0.0, 0.12433929741382599)",
          "(0.0, 0.12493439018726349)",
          "(0.0, 0.1255245804786682)",
          "(0.0, 0.12641526758670807)",
          "(0.0, 0.1268579661846161)",
          "(0.0, 0.12979821860790253)",
          "(0.0, 0.13633735477924347)",
          "(0.0, 0.13776303827762604)",
          "(0.0, 0.14121268689632416)",
          "(0.0, 0.14658983051776886)",
          "(0.0, 0.1473969668149948)",
          "(0.0, 0.14930656552314758)",
          "(0.0, 0.15535253286361694)",
          "(0.0, 0.15597952902317047)",
          "(0.0, 0.15601620078086853)",
          "(0.0, 0.15619197487831116)",
          "(0.0, 0.1597888171672821)",
          "(0.0, 0.16074946522712708)",
          "(0.0, 0.16492007672786713)",
          "(0.0, 0.16498854756355286)",
          "(0.0, 0.17372409999370575)",
          "(0.0, 0.17551684379577637)",
          "(0.0, 0.17682825028896332)",
          "(0.0, 0.17813517153263092)",
          "(0.0, 0.17851682007312775)",
          "(0.0, 0.18226751685142517)",
          "(0.0, 0.18310758471488953)",
          "(0.0, 0.183990478515625)",
          "(0.0, 0.18418528139591217)",
          "(0.0, 0.19057917594909668)",
          "(0.0, 0.19160808622837067)",
          "(0.0, 0.19262726604938507)",
          "(0.0, 0.19398503005504608)",
          "(0.0, 0.19867637753486633)",
          "(0.0, 0.21902000904083252)",
          "(0.0, 0.22597254812717438)",
          "(0.0, 0.26780417561531067)",
          "(0.0, 0.2715924084186554)",
          "(0.0, 0.2796461880207062)"
         ],
         "mode": "markers",
         "name": "H0",
         "type": "scatter",
         "x": [
          0,
          0,
          0,
          0,
          0,
          0,
          0,
          0,
          0,
          0,
          0,
          0,
          0,
          0,
          0,
          0,
          0,
          0,
          0,
          0,
          0,
          0,
          0,
          0,
          0,
          0,
          0,
          0,
          0,
          0,
          0,
          0,
          0,
          0,
          0,
          0,
          0,
          0,
          0,
          0,
          0,
          0,
          0,
          0,
          0,
          0,
          0,
          0,
          0,
          0,
          0,
          0,
          0,
          0,
          0,
          0,
          0,
          0,
          0,
          0,
          0,
          0,
          0,
          0,
          0,
          0,
          0,
          0,
          0,
          0,
          0,
          0,
          0,
          0,
          0,
          0,
          0,
          0,
          0,
          0,
          0,
          0,
          0,
          0,
          0,
          0,
          0,
          0,
          0,
          0,
          0,
          0,
          0,
          0,
          0,
          0,
          0,
          0,
          0
         ],
         "y": [
          0.023360339924693108,
          0.02550288289785385,
          0.02662006951868534,
          0.028986498713493347,
          0.02990426868200302,
          0.036535199731588364,
          0.04356556758284569,
          0.043691955506801605,
          0.04436086490750313,
          0.044963862746953964,
          0.0450407899916172,
          0.045434899628162384,
          0.047468461096286774,
          0.0499919168651104,
          0.05113854631781578,
          0.05187298730015755,
          0.05302615091204643,
          0.05560160428285599,
          0.059619467705488205,
          0.06275061517953873,
          0.06499899923801422,
          0.06505826860666275,
          0.06734733283519745,
          0.06859446316957474,
          0.06930051743984222,
          0.0712001770734787,
          0.07200857996940613,
          0.07586296647787094,
          0.07762410491704941,
          0.0795627236366272,
          0.08145316690206528,
          0.08255935460329056,
          0.08317038416862488,
          0.08563476800918579,
          0.08702683448791504,
          0.08742913603782654,
          0.08796590566635132,
          0.0887741670012474,
          0.08890336006879807,
          0.09024131298065186,
          0.09168920665979385,
          0.09394197911024094,
          0.09482623636722565,
          0.09525145590305328,
          0.09536879509687424,
          0.09700942039489746,
          0.09793438762426376,
          0.09846946597099304,
          0.10428094863891602,
          0.10488085448741913,
          0.10659388452768326,
          0.10853863507509232,
          0.11033866554498672,
          0.1105978861451149,
          0.11169198155403137,
          0.11396130919456482,
          0.11509247124195099,
          0.11523844301700592,
          0.11633428186178207,
          0.12262004613876343,
          0.12433929741382599,
          0.12493439018726349,
          0.1255245804786682,
          0.12641526758670807,
          0.1268579661846161,
          0.12979821860790253,
          0.13633735477924347,
          0.13776303827762604,
          0.14121268689632416,
          0.14658983051776886,
          0.1473969668149948,
          0.14930656552314758,
          0.15535253286361694,
          0.15597952902317047,
          0.15601620078086853,
          0.15619197487831116,
          0.1597888171672821,
          0.16074946522712708,
          0.16492007672786713,
          0.16498854756355286,
          0.17372409999370575,
          0.17551684379577637,
          0.17682825028896332,
          0.17813517153263092,
          0.17851682007312775,
          0.18226751685142517,
          0.18310758471488953,
          0.183990478515625,
          0.18418528139591217,
          0.19057917594909668,
          0.19160808622837067,
          0.19262726604938507,
          0.19398503005504608,
          0.19867637753486633,
          0.21902000904083252,
          0.22597254812717438,
          0.26780417561531067,
          0.2715924084186554,
          0.2796461880207062
         ]
        },
        {
         "hoverinfo": "text",
         "hovertext": [
          "(0.38579100370407104, 0.3863891661167145)",
          "(0.33309122920036316, 0.3477236032485962)",
          "(0.29785212874412537, 0.3038182556629181)",
          "(0.297794908285141, 1.3085414171218872)",
          "(0.23749640583992004, 0.2580626308917999)",
          "(0.1960436999797821, 0.19898605346679688)",
          "(0.19600187242031097, 0.21410509943962097)",
          "(0.18626148998737335, 0.22418776154518127)",
          "(0.17677107453346252, 0.18516921997070312)",
          "(0.12651263177394867, 0.14388829469680786)",
          "(0.12193280458450317, 0.14190351963043213)"
         ],
         "mode": "markers",
         "name": "H1",
         "type": "scatter",
         "x": [
          0.38579100370407104,
          0.33309122920036316,
          0.29785212874412537,
          0.297794908285141,
          0.23749640583992004,
          0.1960436999797821,
          0.19600187242031097,
          0.18626148998737335,
          0.17677107453346252,
          0.12651263177394867,
          0.12193280458450317
         ],
         "y": [
          0.3863891661167145,
          0.3477236032485962,
          0.3038182556629181,
          1.3085414171218872,
          0.2580626308917999,
          0.19898605346679688,
          0.21410509943962097,
          0.22418776154518127,
          0.18516921997070312,
          0.14388829469680786,
          0.14190351963043213
         ]
        }
       ],
       "layout": {
        "height": 500,
        "plot_bgcolor": "white",
        "template": {
         "data": {
          "bar": [
           {
            "error_x": {
             "color": "#2a3f5f"
            },
            "error_y": {
             "color": "#2a3f5f"
            },
            "marker": {
             "line": {
              "color": "#E5ECF6",
              "width": 0.5
             },
             "pattern": {
              "fillmode": "overlay",
              "size": 10,
              "solidity": 0.2
             }
            },
            "type": "bar"
           }
          ],
          "barpolar": [
           {
            "marker": {
             "line": {
              "color": "#E5ECF6",
              "width": 0.5
             },
             "pattern": {
              "fillmode": "overlay",
              "size": 10,
              "solidity": 0.2
             }
            },
            "type": "barpolar"
           }
          ],
          "carpet": [
           {
            "aaxis": {
             "endlinecolor": "#2a3f5f",
             "gridcolor": "white",
             "linecolor": "white",
             "minorgridcolor": "white",
             "startlinecolor": "#2a3f5f"
            },
            "baxis": {
             "endlinecolor": "#2a3f5f",
             "gridcolor": "white",
             "linecolor": "white",
             "minorgridcolor": "white",
             "startlinecolor": "#2a3f5f"
            },
            "type": "carpet"
           }
          ],
          "choropleth": [
           {
            "colorbar": {
             "outlinewidth": 0,
             "ticks": ""
            },
            "type": "choropleth"
           }
          ],
          "contour": [
           {
            "colorbar": {
             "outlinewidth": 0,
             "ticks": ""
            },
            "colorscale": [
             [
              0,
              "#0d0887"
             ],
             [
              0.1111111111111111,
              "#46039f"
             ],
             [
              0.2222222222222222,
              "#7201a8"
             ],
             [
              0.3333333333333333,
              "#9c179e"
             ],
             [
              0.4444444444444444,
              "#bd3786"
             ],
             [
              0.5555555555555556,
              "#d8576b"
             ],
             [
              0.6666666666666666,
              "#ed7953"
             ],
             [
              0.7777777777777778,
              "#fb9f3a"
             ],
             [
              0.8888888888888888,
              "#fdca26"
             ],
             [
              1,
              "#f0f921"
             ]
            ],
            "type": "contour"
           }
          ],
          "contourcarpet": [
           {
            "colorbar": {
             "outlinewidth": 0,
             "ticks": ""
            },
            "type": "contourcarpet"
           }
          ],
          "heatmap": [
           {
            "colorbar": {
             "outlinewidth": 0,
             "ticks": ""
            },
            "colorscale": [
             [
              0,
              "#0d0887"
             ],
             [
              0.1111111111111111,
              "#46039f"
             ],
             [
              0.2222222222222222,
              "#7201a8"
             ],
             [
              0.3333333333333333,
              "#9c179e"
             ],
             [
              0.4444444444444444,
              "#bd3786"
             ],
             [
              0.5555555555555556,
              "#d8576b"
             ],
             [
              0.6666666666666666,
              "#ed7953"
             ],
             [
              0.7777777777777778,
              "#fb9f3a"
             ],
             [
              0.8888888888888888,
              "#fdca26"
             ],
             [
              1,
              "#f0f921"
             ]
            ],
            "type": "heatmap"
           }
          ],
          "heatmapgl": [
           {
            "colorbar": {
             "outlinewidth": 0,
             "ticks": ""
            },
            "colorscale": [
             [
              0,
              "#0d0887"
             ],
             [
              0.1111111111111111,
              "#46039f"
             ],
             [
              0.2222222222222222,
              "#7201a8"
             ],
             [
              0.3333333333333333,
              "#9c179e"
             ],
             [
              0.4444444444444444,
              "#bd3786"
             ],
             [
              0.5555555555555556,
              "#d8576b"
             ],
             [
              0.6666666666666666,
              "#ed7953"
             ],
             [
              0.7777777777777778,
              "#fb9f3a"
             ],
             [
              0.8888888888888888,
              "#fdca26"
             ],
             [
              1,
              "#f0f921"
             ]
            ],
            "type": "heatmapgl"
           }
          ],
          "histogram": [
           {
            "marker": {
             "pattern": {
              "fillmode": "overlay",
              "size": 10,
              "solidity": 0.2
             }
            },
            "type": "histogram"
           }
          ],
          "histogram2d": [
           {
            "colorbar": {
             "outlinewidth": 0,
             "ticks": ""
            },
            "colorscale": [
             [
              0,
              "#0d0887"
             ],
             [
              0.1111111111111111,
              "#46039f"
             ],
             [
              0.2222222222222222,
              "#7201a8"
             ],
             [
              0.3333333333333333,
              "#9c179e"
             ],
             [
              0.4444444444444444,
              "#bd3786"
             ],
             [
              0.5555555555555556,
              "#d8576b"
             ],
             [
              0.6666666666666666,
              "#ed7953"
             ],
             [
              0.7777777777777778,
              "#fb9f3a"
             ],
             [
              0.8888888888888888,
              "#fdca26"
             ],
             [
              1,
              "#f0f921"
             ]
            ],
            "type": "histogram2d"
           }
          ],
          "histogram2dcontour": [
           {
            "colorbar": {
             "outlinewidth": 0,
             "ticks": ""
            },
            "colorscale": [
             [
              0,
              "#0d0887"
             ],
             [
              0.1111111111111111,
              "#46039f"
             ],
             [
              0.2222222222222222,
              "#7201a8"
             ],
             [
              0.3333333333333333,
              "#9c179e"
             ],
             [
              0.4444444444444444,
              "#bd3786"
             ],
             [
              0.5555555555555556,
              "#d8576b"
             ],
             [
              0.6666666666666666,
              "#ed7953"
             ],
             [
              0.7777777777777778,
              "#fb9f3a"
             ],
             [
              0.8888888888888888,
              "#fdca26"
             ],
             [
              1,
              "#f0f921"
             ]
            ],
            "type": "histogram2dcontour"
           }
          ],
          "mesh3d": [
           {
            "colorbar": {
             "outlinewidth": 0,
             "ticks": ""
            },
            "type": "mesh3d"
           }
          ],
          "parcoords": [
           {
            "line": {
             "colorbar": {
              "outlinewidth": 0,
              "ticks": ""
             }
            },
            "type": "parcoords"
           }
          ],
          "pie": [
           {
            "automargin": true,
            "type": "pie"
           }
          ],
          "scatter": [
           {
            "marker": {
             "colorbar": {
              "outlinewidth": 0,
              "ticks": ""
             }
            },
            "type": "scatter"
           }
          ],
          "scatter3d": [
           {
            "line": {
             "colorbar": {
              "outlinewidth": 0,
              "ticks": ""
             }
            },
            "marker": {
             "colorbar": {
              "outlinewidth": 0,
              "ticks": ""
             }
            },
            "type": "scatter3d"
           }
          ],
          "scattercarpet": [
           {
            "marker": {
             "colorbar": {
              "outlinewidth": 0,
              "ticks": ""
             }
            },
            "type": "scattercarpet"
           }
          ],
          "scattergeo": [
           {
            "marker": {
             "colorbar": {
              "outlinewidth": 0,
              "ticks": ""
             }
            },
            "type": "scattergeo"
           }
          ],
          "scattergl": [
           {
            "marker": {
             "colorbar": {
              "outlinewidth": 0,
              "ticks": ""
             }
            },
            "type": "scattergl"
           }
          ],
          "scattermapbox": [
           {
            "marker": {
             "colorbar": {
              "outlinewidth": 0,
              "ticks": ""
             }
            },
            "type": "scattermapbox"
           }
          ],
          "scatterpolar": [
           {
            "marker": {
             "colorbar": {
              "outlinewidth": 0,
              "ticks": ""
             }
            },
            "type": "scatterpolar"
           }
          ],
          "scatterpolargl": [
           {
            "marker": {
             "colorbar": {
              "outlinewidth": 0,
              "ticks": ""
             }
            },
            "type": "scatterpolargl"
           }
          ],
          "scatterternary": [
           {
            "marker": {
             "colorbar": {
              "outlinewidth": 0,
              "ticks": ""
             }
            },
            "type": "scatterternary"
           }
          ],
          "surface": [
           {
            "colorbar": {
             "outlinewidth": 0,
             "ticks": ""
            },
            "colorscale": [
             [
              0,
              "#0d0887"
             ],
             [
              0.1111111111111111,
              "#46039f"
             ],
             [
              0.2222222222222222,
              "#7201a8"
             ],
             [
              0.3333333333333333,
              "#9c179e"
             ],
             [
              0.4444444444444444,
              "#bd3786"
             ],
             [
              0.5555555555555556,
              "#d8576b"
             ],
             [
              0.6666666666666666,
              "#ed7953"
             ],
             [
              0.7777777777777778,
              "#fb9f3a"
             ],
             [
              0.8888888888888888,
              "#fdca26"
             ],
             [
              1,
              "#f0f921"
             ]
            ],
            "type": "surface"
           }
          ],
          "table": [
           {
            "cells": {
             "fill": {
              "color": "#EBF0F8"
             },
             "line": {
              "color": "white"
             }
            },
            "header": {
             "fill": {
              "color": "#C8D4E3"
             },
             "line": {
              "color": "white"
             }
            },
            "type": "table"
           }
          ]
         },
         "layout": {
          "annotationdefaults": {
           "arrowcolor": "#2a3f5f",
           "arrowhead": 0,
           "arrowwidth": 1
          },
          "autotypenumbers": "strict",
          "coloraxis": {
           "colorbar": {
            "outlinewidth": 0,
            "ticks": ""
           }
          },
          "colorscale": {
           "diverging": [
            [
             0,
             "#8e0152"
            ],
            [
             0.1,
             "#c51b7d"
            ],
            [
             0.2,
             "#de77ae"
            ],
            [
             0.3,
             "#f1b6da"
            ],
            [
             0.4,
             "#fde0ef"
            ],
            [
             0.5,
             "#f7f7f7"
            ],
            [
             0.6,
             "#e6f5d0"
            ],
            [
             0.7,
             "#b8e186"
            ],
            [
             0.8,
             "#7fbc41"
            ],
            [
             0.9,
             "#4d9221"
            ],
            [
             1,
             "#276419"
            ]
           ],
           "sequential": [
            [
             0,
             "#0d0887"
            ],
            [
             0.1111111111111111,
             "#46039f"
            ],
            [
             0.2222222222222222,
             "#7201a8"
            ],
            [
             0.3333333333333333,
             "#9c179e"
            ],
            [
             0.4444444444444444,
             "#bd3786"
            ],
            [
             0.5555555555555556,
             "#d8576b"
            ],
            [
             0.6666666666666666,
             "#ed7953"
            ],
            [
             0.7777777777777778,
             "#fb9f3a"
            ],
            [
             0.8888888888888888,
             "#fdca26"
            ],
            [
             1,
             "#f0f921"
            ]
           ],
           "sequentialminus": [
            [
             0,
             "#0d0887"
            ],
            [
             0.1111111111111111,
             "#46039f"
            ],
            [
             0.2222222222222222,
             "#7201a8"
            ],
            [
             0.3333333333333333,
             "#9c179e"
            ],
            [
             0.4444444444444444,
             "#bd3786"
            ],
            [
             0.5555555555555556,
             "#d8576b"
            ],
            [
             0.6666666666666666,
             "#ed7953"
            ],
            [
             0.7777777777777778,
             "#fb9f3a"
            ],
            [
             0.8888888888888888,
             "#fdca26"
            ],
            [
             1,
             "#f0f921"
            ]
           ]
          },
          "colorway": [
           "#636efa",
           "#EF553B",
           "#00cc96",
           "#ab63fa",
           "#FFA15A",
           "#19d3f3",
           "#FF6692",
           "#B6E880",
           "#FF97FF",
           "#FECB52"
          ],
          "font": {
           "color": "#2a3f5f"
          },
          "geo": {
           "bgcolor": "white",
           "lakecolor": "white",
           "landcolor": "#E5ECF6",
           "showlakes": true,
           "showland": true,
           "subunitcolor": "white"
          },
          "hoverlabel": {
           "align": "left"
          },
          "hovermode": "closest",
          "mapbox": {
           "style": "light"
          },
          "paper_bgcolor": "white",
          "plot_bgcolor": "#E5ECF6",
          "polar": {
           "angularaxis": {
            "gridcolor": "white",
            "linecolor": "white",
            "ticks": ""
           },
           "bgcolor": "#E5ECF6",
           "radialaxis": {
            "gridcolor": "white",
            "linecolor": "white",
            "ticks": ""
           }
          },
          "scene": {
           "xaxis": {
            "backgroundcolor": "#E5ECF6",
            "gridcolor": "white",
            "gridwidth": 2,
            "linecolor": "white",
            "showbackground": true,
            "ticks": "",
            "zerolinecolor": "white"
           },
           "yaxis": {
            "backgroundcolor": "#E5ECF6",
            "gridcolor": "white",
            "gridwidth": 2,
            "linecolor": "white",
            "showbackground": true,
            "ticks": "",
            "zerolinecolor": "white"
           },
           "zaxis": {
            "backgroundcolor": "#E5ECF6",
            "gridcolor": "white",
            "gridwidth": 2,
            "linecolor": "white",
            "showbackground": true,
            "ticks": "",
            "zerolinecolor": "white"
           }
          },
          "shapedefaults": {
           "line": {
            "color": "#2a3f5f"
           }
          },
          "ternary": {
           "aaxis": {
            "gridcolor": "white",
            "linecolor": "white",
            "ticks": ""
           },
           "baxis": {
            "gridcolor": "white",
            "linecolor": "white",
            "ticks": ""
           },
           "bgcolor": "#E5ECF6",
           "caxis": {
            "gridcolor": "white",
            "linecolor": "white",
            "ticks": ""
           }
          },
          "title": {
           "x": 0.05
          },
          "xaxis": {
           "automargin": true,
           "gridcolor": "white",
           "linecolor": "white",
           "ticks": "",
           "title": {
            "standoff": 15
           },
           "zerolinecolor": "white",
           "zerolinewidth": 2
          },
          "yaxis": {
           "automargin": true,
           "gridcolor": "white",
           "linecolor": "white",
           "ticks": "",
           "title": {
            "standoff": 15
           },
           "zerolinecolor": "white",
           "zerolinewidth": 2
          }
         }
        },
        "width": 500,
        "xaxis": {
         "autorange": false,
         "exponentformat": "e",
         "linecolor": "black",
         "linewidth": 1,
         "mirror": false,
         "range": [
          -0.026170828342437745,
          1.334712245464325
         ],
         "showexponent": "all",
         "showline": true,
         "side": "bottom",
         "ticks": "outside",
         "title": {
          "text": "Birth"
         },
         "type": "linear",
         "zeroline": true
        },
        "yaxis": {
         "autorange": false,
         "exponentformat": "e",
         "linecolor": "black",
         "linewidth": 1,
         "mirror": false,
         "range": [
          -0.026170828342437745,
          1.334712245464325
         ],
         "scaleanchor": "x",
         "scaleratio": 1,
         "showexponent": "all",
         "showline": true,
         "side": "left",
         "ticks": "outside",
         "title": {
          "text": "Death"
         },
         "type": "linear",
         "zeroline": true
        }
       }
      },
      "text/html": [
       "<div>                            <div id=\"f125128a-20a5-4d09-bb46-ad92d2c9f062\" class=\"plotly-graph-div\" style=\"height:500px; width:500px;\"></div>            <script type=\"text/javascript\">                require([\"plotly\"], function(Plotly) {                    window.PLOTLYENV=window.PLOTLYENV || {};                                    if (document.getElementById(\"f125128a-20a5-4d09-bb46-ad92d2c9f062\")) {                    Plotly.newPlot(                        \"f125128a-20a5-4d09-bb46-ad92d2c9f062\",                        [{\"hoverinfo\":\"none\",\"line\":{\"color\":\"black\",\"dash\":\"dash\",\"width\":1},\"mode\":\"lines\",\"showlegend\":false,\"type\":\"scatter\",\"x\":[-0.026170828342437745,1.334712245464325],\"y\":[-0.026170828342437745,1.334712245464325]},{\"hoverinfo\":\"text\",\"hovertext\":[\"(0.0, 0.023360339924693108)\",\"(0.0, 0.02550288289785385)\",\"(0.0, 0.02662006951868534)\",\"(0.0, 0.028986498713493347)\",\"(0.0, 0.02990426868200302)\",\"(0.0, 0.036535199731588364)\",\"(0.0, 0.04356556758284569)\",\"(0.0, 0.043691955506801605)\",\"(0.0, 0.04436086490750313)\",\"(0.0, 0.044963862746953964)\",\"(0.0, 0.0450407899916172)\",\"(0.0, 0.045434899628162384)\",\"(0.0, 0.047468461096286774)\",\"(0.0, 0.0499919168651104)\",\"(0.0, 0.05113854631781578)\",\"(0.0, 0.05187298730015755)\",\"(0.0, 0.05302615091204643)\",\"(0.0, 0.05560160428285599)\",\"(0.0, 0.059619467705488205)\",\"(0.0, 0.06275061517953873)\",\"(0.0, 0.06499899923801422)\",\"(0.0, 0.06505826860666275)\",\"(0.0, 0.06734733283519745)\",\"(0.0, 0.06859446316957474)\",\"(0.0, 0.06930051743984222)\",\"(0.0, 0.0712001770734787)\",\"(0.0, 0.07200857996940613)\",\"(0.0, 0.07586296647787094)\",\"(0.0, 0.07762410491704941)\",\"(0.0, 0.0795627236366272)\",\"(0.0, 0.08145316690206528)\",\"(0.0, 0.08255935460329056)\",\"(0.0, 0.08317038416862488)\",\"(0.0, 0.08563476800918579)\",\"(0.0, 0.08702683448791504)\",\"(0.0, 0.08742913603782654)\",\"(0.0, 0.08796590566635132)\",\"(0.0, 0.0887741670012474)\",\"(0.0, 0.08890336006879807)\",\"(0.0, 0.09024131298065186)\",\"(0.0, 0.09168920665979385)\",\"(0.0, 0.09394197911024094)\",\"(0.0, 0.09482623636722565)\",\"(0.0, 0.09525145590305328)\",\"(0.0, 0.09536879509687424)\",\"(0.0, 0.09700942039489746)\",\"(0.0, 0.09793438762426376)\",\"(0.0, 0.09846946597099304)\",\"(0.0, 0.10428094863891602)\",\"(0.0, 0.10488085448741913)\",\"(0.0, 0.10659388452768326)\",\"(0.0, 0.10853863507509232)\",\"(0.0, 0.11033866554498672)\",\"(0.0, 0.1105978861451149)\",\"(0.0, 0.11169198155403137)\",\"(0.0, 0.11396130919456482)\",\"(0.0, 0.11509247124195099)\",\"(0.0, 0.11523844301700592)\",\"(0.0, 0.11633428186178207)\",\"(0.0, 0.12262004613876343)\",\"(0.0, 0.12433929741382599)\",\"(0.0, 0.12493439018726349)\",\"(0.0, 0.1255245804786682)\",\"(0.0, 0.12641526758670807)\",\"(0.0, 0.1268579661846161)\",\"(0.0, 0.12979821860790253)\",\"(0.0, 0.13633735477924347)\",\"(0.0, 0.13776303827762604)\",\"(0.0, 0.14121268689632416)\",\"(0.0, 0.14658983051776886)\",\"(0.0, 0.1473969668149948)\",\"(0.0, 0.14930656552314758)\",\"(0.0, 0.15535253286361694)\",\"(0.0, 0.15597952902317047)\",\"(0.0, 0.15601620078086853)\",\"(0.0, 0.15619197487831116)\",\"(0.0, 0.1597888171672821)\",\"(0.0, 0.16074946522712708)\",\"(0.0, 0.16492007672786713)\",\"(0.0, 0.16498854756355286)\",\"(0.0, 0.17372409999370575)\",\"(0.0, 0.17551684379577637)\",\"(0.0, 0.17682825028896332)\",\"(0.0, 0.17813517153263092)\",\"(0.0, 0.17851682007312775)\",\"(0.0, 0.18226751685142517)\",\"(0.0, 0.18310758471488953)\",\"(0.0, 0.183990478515625)\",\"(0.0, 0.18418528139591217)\",\"(0.0, 0.19057917594909668)\",\"(0.0, 0.19160808622837067)\",\"(0.0, 0.19262726604938507)\",\"(0.0, 0.19398503005504608)\",\"(0.0, 0.19867637753486633)\",\"(0.0, 0.21902000904083252)\",\"(0.0, 0.22597254812717438)\",\"(0.0, 0.26780417561531067)\",\"(0.0, 0.2715924084186554)\",\"(0.0, 0.2796461880207062)\"],\"mode\":\"markers\",\"name\":\"H0\",\"type\":\"scatter\",\"x\":[0.0,0.0,0.0,0.0,0.0,0.0,0.0,0.0,0.0,0.0,0.0,0.0,0.0,0.0,0.0,0.0,0.0,0.0,0.0,0.0,0.0,0.0,0.0,0.0,0.0,0.0,0.0,0.0,0.0,0.0,0.0,0.0,0.0,0.0,0.0,0.0,0.0,0.0,0.0,0.0,0.0,0.0,0.0,0.0,0.0,0.0,0.0,0.0,0.0,0.0,0.0,0.0,0.0,0.0,0.0,0.0,0.0,0.0,0.0,0.0,0.0,0.0,0.0,0.0,0.0,0.0,0.0,0.0,0.0,0.0,0.0,0.0,0.0,0.0,0.0,0.0,0.0,0.0,0.0,0.0,0.0,0.0,0.0,0.0,0.0,0.0,0.0,0.0,0.0,0.0,0.0,0.0,0.0,0.0,0.0,0.0,0.0,0.0,0.0],\"y\":[0.023360339924693108,0.02550288289785385,0.02662006951868534,0.028986498713493347,0.02990426868200302,0.036535199731588364,0.04356556758284569,0.043691955506801605,0.04436086490750313,0.044963862746953964,0.0450407899916172,0.045434899628162384,0.047468461096286774,0.0499919168651104,0.05113854631781578,0.05187298730015755,0.05302615091204643,0.05560160428285599,0.059619467705488205,0.06275061517953873,0.06499899923801422,0.06505826860666275,0.06734733283519745,0.06859446316957474,0.06930051743984222,0.0712001770734787,0.07200857996940613,0.07586296647787094,0.07762410491704941,0.0795627236366272,0.08145316690206528,0.08255935460329056,0.08317038416862488,0.08563476800918579,0.08702683448791504,0.08742913603782654,0.08796590566635132,0.0887741670012474,0.08890336006879807,0.09024131298065186,0.09168920665979385,0.09394197911024094,0.09482623636722565,0.09525145590305328,0.09536879509687424,0.09700942039489746,0.09793438762426376,0.09846946597099304,0.10428094863891602,0.10488085448741913,0.10659388452768326,0.10853863507509232,0.11033866554498672,0.1105978861451149,0.11169198155403137,0.11396130919456482,0.11509247124195099,0.11523844301700592,0.11633428186178207,0.12262004613876343,0.12433929741382599,0.12493439018726349,0.1255245804786682,0.12641526758670807,0.1268579661846161,0.12979821860790253,0.13633735477924347,0.13776303827762604,0.14121268689632416,0.14658983051776886,0.1473969668149948,0.14930656552314758,0.15535253286361694,0.15597952902317047,0.15601620078086853,0.15619197487831116,0.1597888171672821,0.16074946522712708,0.16492007672786713,0.16498854756355286,0.17372409999370575,0.17551684379577637,0.17682825028896332,0.17813517153263092,0.17851682007312775,0.18226751685142517,0.18310758471488953,0.183990478515625,0.18418528139591217,0.19057917594909668,0.19160808622837067,0.19262726604938507,0.19398503005504608,0.19867637753486633,0.21902000904083252,0.22597254812717438,0.26780417561531067,0.2715924084186554,0.2796461880207062]},{\"hoverinfo\":\"text\",\"hovertext\":[\"(0.38579100370407104, 0.3863891661167145)\",\"(0.33309122920036316, 0.3477236032485962)\",\"(0.29785212874412537, 0.3038182556629181)\",\"(0.297794908285141, 1.3085414171218872)\",\"(0.23749640583992004, 0.2580626308917999)\",\"(0.1960436999797821, 0.19898605346679688)\",\"(0.19600187242031097, 0.21410509943962097)\",\"(0.18626148998737335, 0.22418776154518127)\",\"(0.17677107453346252, 0.18516921997070312)\",\"(0.12651263177394867, 0.14388829469680786)\",\"(0.12193280458450317, 0.14190351963043213)\"],\"mode\":\"markers\",\"name\":\"H1\",\"type\":\"scatter\",\"x\":[0.38579100370407104,0.33309122920036316,0.29785212874412537,0.297794908285141,0.23749640583992004,0.1960436999797821,0.19600187242031097,0.18626148998737335,0.17677107453346252,0.12651263177394867,0.12193280458450317],\"y\":[0.3863891661167145,0.3477236032485962,0.3038182556629181,1.3085414171218872,0.2580626308917999,0.19898605346679688,0.21410509943962097,0.22418776154518127,0.18516921997070312,0.14388829469680786,0.14190351963043213]}],                        {\"height\":500,\"plot_bgcolor\":\"white\",\"template\":{\"data\":{\"bar\":[{\"error_x\":{\"color\":\"#2a3f5f\"},\"error_y\":{\"color\":\"#2a3f5f\"},\"marker\":{\"line\":{\"color\":\"#E5ECF6\",\"width\":0.5},\"pattern\":{\"fillmode\":\"overlay\",\"size\":10,\"solidity\":0.2}},\"type\":\"bar\"}],\"barpolar\":[{\"marker\":{\"line\":{\"color\":\"#E5ECF6\",\"width\":0.5},\"pattern\":{\"fillmode\":\"overlay\",\"size\":10,\"solidity\":0.2}},\"type\":\"barpolar\"}],\"carpet\":[{\"aaxis\":{\"endlinecolor\":\"#2a3f5f\",\"gridcolor\":\"white\",\"linecolor\":\"white\",\"minorgridcolor\":\"white\",\"startlinecolor\":\"#2a3f5f\"},\"baxis\":{\"endlinecolor\":\"#2a3f5f\",\"gridcolor\":\"white\",\"linecolor\":\"white\",\"minorgridcolor\":\"white\",\"startlinecolor\":\"#2a3f5f\"},\"type\":\"carpet\"}],\"choropleth\":[{\"colorbar\":{\"outlinewidth\":0,\"ticks\":\"\"},\"type\":\"choropleth\"}],\"contour\":[{\"colorbar\":{\"outlinewidth\":0,\"ticks\":\"\"},\"colorscale\":[[0.0,\"#0d0887\"],[0.1111111111111111,\"#46039f\"],[0.2222222222222222,\"#7201a8\"],[0.3333333333333333,\"#9c179e\"],[0.4444444444444444,\"#bd3786\"],[0.5555555555555556,\"#d8576b\"],[0.6666666666666666,\"#ed7953\"],[0.7777777777777778,\"#fb9f3a\"],[0.8888888888888888,\"#fdca26\"],[1.0,\"#f0f921\"]],\"type\":\"contour\"}],\"contourcarpet\":[{\"colorbar\":{\"outlinewidth\":0,\"ticks\":\"\"},\"type\":\"contourcarpet\"}],\"heatmap\":[{\"colorbar\":{\"outlinewidth\":0,\"ticks\":\"\"},\"colorscale\":[[0.0,\"#0d0887\"],[0.1111111111111111,\"#46039f\"],[0.2222222222222222,\"#7201a8\"],[0.3333333333333333,\"#9c179e\"],[0.4444444444444444,\"#bd3786\"],[0.5555555555555556,\"#d8576b\"],[0.6666666666666666,\"#ed7953\"],[0.7777777777777778,\"#fb9f3a\"],[0.8888888888888888,\"#fdca26\"],[1.0,\"#f0f921\"]],\"type\":\"heatmap\"}],\"heatmapgl\":[{\"colorbar\":{\"outlinewidth\":0,\"ticks\":\"\"},\"colorscale\":[[0.0,\"#0d0887\"],[0.1111111111111111,\"#46039f\"],[0.2222222222222222,\"#7201a8\"],[0.3333333333333333,\"#9c179e\"],[0.4444444444444444,\"#bd3786\"],[0.5555555555555556,\"#d8576b\"],[0.6666666666666666,\"#ed7953\"],[0.7777777777777778,\"#fb9f3a\"],[0.8888888888888888,\"#fdca26\"],[1.0,\"#f0f921\"]],\"type\":\"heatmapgl\"}],\"histogram\":[{\"marker\":{\"pattern\":{\"fillmode\":\"overlay\",\"size\":10,\"solidity\":0.2}},\"type\":\"histogram\"}],\"histogram2d\":[{\"colorbar\":{\"outlinewidth\":0,\"ticks\":\"\"},\"colorscale\":[[0.0,\"#0d0887\"],[0.1111111111111111,\"#46039f\"],[0.2222222222222222,\"#7201a8\"],[0.3333333333333333,\"#9c179e\"],[0.4444444444444444,\"#bd3786\"],[0.5555555555555556,\"#d8576b\"],[0.6666666666666666,\"#ed7953\"],[0.7777777777777778,\"#fb9f3a\"],[0.8888888888888888,\"#fdca26\"],[1.0,\"#f0f921\"]],\"type\":\"histogram2d\"}],\"histogram2dcontour\":[{\"colorbar\":{\"outlinewidth\":0,\"ticks\":\"\"},\"colorscale\":[[0.0,\"#0d0887\"],[0.1111111111111111,\"#46039f\"],[0.2222222222222222,\"#7201a8\"],[0.3333333333333333,\"#9c179e\"],[0.4444444444444444,\"#bd3786\"],[0.5555555555555556,\"#d8576b\"],[0.6666666666666666,\"#ed7953\"],[0.7777777777777778,\"#fb9f3a\"],[0.8888888888888888,\"#fdca26\"],[1.0,\"#f0f921\"]],\"type\":\"histogram2dcontour\"}],\"mesh3d\":[{\"colorbar\":{\"outlinewidth\":0,\"ticks\":\"\"},\"type\":\"mesh3d\"}],\"parcoords\":[{\"line\":{\"colorbar\":{\"outlinewidth\":0,\"ticks\":\"\"}},\"type\":\"parcoords\"}],\"pie\":[{\"automargin\":true,\"type\":\"pie\"}],\"scatter\":[{\"marker\":{\"colorbar\":{\"outlinewidth\":0,\"ticks\":\"\"}},\"type\":\"scatter\"}],\"scatter3d\":[{\"line\":{\"colorbar\":{\"outlinewidth\":0,\"ticks\":\"\"}},\"marker\":{\"colorbar\":{\"outlinewidth\":0,\"ticks\":\"\"}},\"type\":\"scatter3d\"}],\"scattercarpet\":[{\"marker\":{\"colorbar\":{\"outlinewidth\":0,\"ticks\":\"\"}},\"type\":\"scattercarpet\"}],\"scattergeo\":[{\"marker\":{\"colorbar\":{\"outlinewidth\":0,\"ticks\":\"\"}},\"type\":\"scattergeo\"}],\"scattergl\":[{\"marker\":{\"colorbar\":{\"outlinewidth\":0,\"ticks\":\"\"}},\"type\":\"scattergl\"}],\"scattermapbox\":[{\"marker\":{\"colorbar\":{\"outlinewidth\":0,\"ticks\":\"\"}},\"type\":\"scattermapbox\"}],\"scatterpolar\":[{\"marker\":{\"colorbar\":{\"outlinewidth\":0,\"ticks\":\"\"}},\"type\":\"scatterpolar\"}],\"scatterpolargl\":[{\"marker\":{\"colorbar\":{\"outlinewidth\":0,\"ticks\":\"\"}},\"type\":\"scatterpolargl\"}],\"scatterternary\":[{\"marker\":{\"colorbar\":{\"outlinewidth\":0,\"ticks\":\"\"}},\"type\":\"scatterternary\"}],\"surface\":[{\"colorbar\":{\"outlinewidth\":0,\"ticks\":\"\"},\"colorscale\":[[0.0,\"#0d0887\"],[0.1111111111111111,\"#46039f\"],[0.2222222222222222,\"#7201a8\"],[0.3333333333333333,\"#9c179e\"],[0.4444444444444444,\"#bd3786\"],[0.5555555555555556,\"#d8576b\"],[0.6666666666666666,\"#ed7953\"],[0.7777777777777778,\"#fb9f3a\"],[0.8888888888888888,\"#fdca26\"],[1.0,\"#f0f921\"]],\"type\":\"surface\"}],\"table\":[{\"cells\":{\"fill\":{\"color\":\"#EBF0F8\"},\"line\":{\"color\":\"white\"}},\"header\":{\"fill\":{\"color\":\"#C8D4E3\"},\"line\":{\"color\":\"white\"}},\"type\":\"table\"}]},\"layout\":{\"annotationdefaults\":{\"arrowcolor\":\"#2a3f5f\",\"arrowhead\":0,\"arrowwidth\":1},\"autotypenumbers\":\"strict\",\"coloraxis\":{\"colorbar\":{\"outlinewidth\":0,\"ticks\":\"\"}},\"colorscale\":{\"diverging\":[[0,\"#8e0152\"],[0.1,\"#c51b7d\"],[0.2,\"#de77ae\"],[0.3,\"#f1b6da\"],[0.4,\"#fde0ef\"],[0.5,\"#f7f7f7\"],[0.6,\"#e6f5d0\"],[0.7,\"#b8e186\"],[0.8,\"#7fbc41\"],[0.9,\"#4d9221\"],[1,\"#276419\"]],\"sequential\":[[0.0,\"#0d0887\"],[0.1111111111111111,\"#46039f\"],[0.2222222222222222,\"#7201a8\"],[0.3333333333333333,\"#9c179e\"],[0.4444444444444444,\"#bd3786\"],[0.5555555555555556,\"#d8576b\"],[0.6666666666666666,\"#ed7953\"],[0.7777777777777778,\"#fb9f3a\"],[0.8888888888888888,\"#fdca26\"],[1.0,\"#f0f921\"]],\"sequentialminus\":[[0.0,\"#0d0887\"],[0.1111111111111111,\"#46039f\"],[0.2222222222222222,\"#7201a8\"],[0.3333333333333333,\"#9c179e\"],[0.4444444444444444,\"#bd3786\"],[0.5555555555555556,\"#d8576b\"],[0.6666666666666666,\"#ed7953\"],[0.7777777777777778,\"#fb9f3a\"],[0.8888888888888888,\"#fdca26\"],[1.0,\"#f0f921\"]]},\"colorway\":[\"#636efa\",\"#EF553B\",\"#00cc96\",\"#ab63fa\",\"#FFA15A\",\"#19d3f3\",\"#FF6692\",\"#B6E880\",\"#FF97FF\",\"#FECB52\"],\"font\":{\"color\":\"#2a3f5f\"},\"geo\":{\"bgcolor\":\"white\",\"lakecolor\":\"white\",\"landcolor\":\"#E5ECF6\",\"showlakes\":true,\"showland\":true,\"subunitcolor\":\"white\"},\"hoverlabel\":{\"align\":\"left\"},\"hovermode\":\"closest\",\"mapbox\":{\"style\":\"light\"},\"paper_bgcolor\":\"white\",\"plot_bgcolor\":\"#E5ECF6\",\"polar\":{\"angularaxis\":{\"gridcolor\":\"white\",\"linecolor\":\"white\",\"ticks\":\"\"},\"bgcolor\":\"#E5ECF6\",\"radialaxis\":{\"gridcolor\":\"white\",\"linecolor\":\"white\",\"ticks\":\"\"}},\"scene\":{\"xaxis\":{\"backgroundcolor\":\"#E5ECF6\",\"gridcolor\":\"white\",\"gridwidth\":2,\"linecolor\":\"white\",\"showbackground\":true,\"ticks\":\"\",\"zerolinecolor\":\"white\"},\"yaxis\":{\"backgroundcolor\":\"#E5ECF6\",\"gridcolor\":\"white\",\"gridwidth\":2,\"linecolor\":\"white\",\"showbackground\":true,\"ticks\":\"\",\"zerolinecolor\":\"white\"},\"zaxis\":{\"backgroundcolor\":\"#E5ECF6\",\"gridcolor\":\"white\",\"gridwidth\":2,\"linecolor\":\"white\",\"showbackground\":true,\"ticks\":\"\",\"zerolinecolor\":\"white\"}},\"shapedefaults\":{\"line\":{\"color\":\"#2a3f5f\"}},\"ternary\":{\"aaxis\":{\"gridcolor\":\"white\",\"linecolor\":\"white\",\"ticks\":\"\"},\"baxis\":{\"gridcolor\":\"white\",\"linecolor\":\"white\",\"ticks\":\"\"},\"bgcolor\":\"#E5ECF6\",\"caxis\":{\"gridcolor\":\"white\",\"linecolor\":\"white\",\"ticks\":\"\"}},\"title\":{\"x\":0.05},\"xaxis\":{\"automargin\":true,\"gridcolor\":\"white\",\"linecolor\":\"white\",\"ticks\":\"\",\"title\":{\"standoff\":15},\"zerolinecolor\":\"white\",\"zerolinewidth\":2},\"yaxis\":{\"automargin\":true,\"gridcolor\":\"white\",\"linecolor\":\"white\",\"ticks\":\"\",\"title\":{\"standoff\":15},\"zerolinecolor\":\"white\",\"zerolinewidth\":2}}},\"width\":500,\"xaxis\":{\"autorange\":false,\"exponentformat\":\"e\",\"linecolor\":\"black\",\"linewidth\":1,\"mirror\":false,\"range\":[-0.026170828342437745,1.334712245464325],\"showexponent\":\"all\",\"showline\":true,\"side\":\"bottom\",\"ticks\":\"outside\",\"title\":{\"text\":\"Birth\"},\"type\":\"linear\",\"zeroline\":true},\"yaxis\":{\"autorange\":false,\"exponentformat\":\"e\",\"linecolor\":\"black\",\"linewidth\":1,\"mirror\":false,\"range\":[-0.026170828342437745,1.334712245464325],\"scaleanchor\":\"x\",\"scaleratio\":1,\"showexponent\":\"all\",\"showline\":true,\"side\":\"left\",\"ticks\":\"outside\",\"title\":{\"text\":\"Death\"},\"type\":\"linear\",\"zeroline\":true}},                        {\"responsive\": true}                    ).then(function(){\n",
       "                            \n",
       "var gd = document.getElementById('f125128a-20a5-4d09-bb46-ad92d2c9f062');\n",
       "var x = new MutationObserver(function (mutations, observer) {{\n",
       "        var display = window.getComputedStyle(gd).display;\n",
       "        if (!display || display === 'none') {{\n",
       "            console.log([gd, 'removed!']);\n",
       "            Plotly.purge(gd);\n",
       "            observer.disconnect();\n",
       "        }}\n",
       "}});\n",
       "\n",
       "// Listen for the removal of the full notebook cells\n",
       "var notebookContainer = gd.closest('#notebook-container');\n",
       "if (notebookContainer) {{\n",
       "    x.observe(notebookContainer, {childList: true});\n",
       "}}\n",
       "\n",
       "// Listen for the clearing of the current output cell\n",
       "var outputEl = gd.closest('.output');\n",
       "if (outputEl) {{\n",
       "    x.observe(outputEl, {childList: true});\n",
       "}}\n",
       "\n",
       "                        })                };                });            </script>        </div>"
      ]
     },
     "metadata": {},
     "output_type": "display_data"
    }
   ],
   "source": [
    "plot_diagram(diagrams[1])"
   ]
  },
  {
   "cell_type": "code",
   "execution_count": 165,
   "metadata": {},
   "outputs": [
    {
     "data": {
      "application/vnd.plotly.v1+json": {
       "config": {
        "plotlyServerURL": "https://plot.ly"
       },
       "data": [
        {
         "hoverinfo": "none",
         "line": {
          "color": "black",
          "dash": "dash",
          "width": 1
         },
         "mode": "lines",
         "showlegend": false,
         "type": "scatter",
         "x": [
          -0.040005035400390625,
          2.0402568054199217
         ],
         "y": [
          -0.040005035400390625,
          2.0402568054199217
         ]
        },
        {
         "hoverinfo": "text",
         "hovertext": [
          "(0.0, 0.06345586478710175), multiplicity: 196",
          "(0.0, 0.06345586478710175), multiplicity: 196",
          "(0.0, 0.06345586478710175), multiplicity: 196",
          "(0.0, 0.06345586478710175), multiplicity: 196",
          "(0.0, 0.06345586478710175), multiplicity: 196",
          "(0.0, 0.06345586478710175), multiplicity: 196",
          "(0.0, 0.06345586478710175), multiplicity: 196",
          "(0.0, 0.06345586478710175), multiplicity: 196",
          "(0.0, 0.06345586478710175), multiplicity: 196",
          "(0.0, 0.06345586478710175), multiplicity: 196",
          "(0.0, 0.06345586478710175), multiplicity: 196",
          "(0.0, 0.06345586478710175), multiplicity: 196",
          "(0.0, 0.06345586478710175), multiplicity: 196",
          "(0.0, 0.06345586478710175), multiplicity: 196",
          "(0.0, 0.06345586478710175), multiplicity: 196",
          "(0.0, 0.06345586478710175), multiplicity: 196",
          "(0.0, 0.06345586478710175), multiplicity: 196",
          "(0.0, 0.06345586478710175), multiplicity: 196",
          "(0.0, 0.06345586478710175), multiplicity: 196",
          "(0.0, 0.06345586478710175), multiplicity: 196",
          "(0.0, 0.06345586478710175), multiplicity: 196",
          "(0.0, 0.06345586478710175), multiplicity: 196",
          "(0.0, 0.06345586478710175), multiplicity: 196",
          "(0.0, 0.06345586478710175), multiplicity: 196",
          "(0.0, 0.06345586478710175), multiplicity: 196",
          "(0.0, 0.06345586478710175), multiplicity: 196",
          "(0.0, 0.06345586478710175), multiplicity: 196",
          "(0.0, 0.06345586478710175), multiplicity: 196",
          "(0.0, 0.06345586478710175), multiplicity: 196",
          "(0.0, 0.06345586478710175), multiplicity: 196",
          "(0.0, 0.06345586478710175), multiplicity: 196",
          "(0.0, 0.06345586478710175), multiplicity: 196",
          "(0.0, 0.06345586478710175), multiplicity: 196",
          "(0.0, 0.06345586478710175), multiplicity: 196",
          "(0.0, 0.06345586478710175), multiplicity: 196",
          "(0.0, 0.06345586478710175), multiplicity: 196",
          "(0.0, 0.06345586478710175), multiplicity: 196",
          "(0.0, 0.06345586478710175), multiplicity: 196",
          "(0.0, 0.06345586478710175), multiplicity: 196",
          "(0.0, 0.06345586478710175), multiplicity: 196",
          "(0.0, 0.06345586478710175), multiplicity: 196",
          "(0.0, 0.06345586478710175), multiplicity: 196",
          "(0.0, 0.06345586478710175), multiplicity: 196",
          "(0.0, 0.06345586478710175), multiplicity: 196",
          "(0.0, 0.06345586478710175), multiplicity: 196",
          "(0.0, 0.06345586478710175), multiplicity: 196",
          "(0.0, 0.06345586478710175), multiplicity: 196",
          "(0.0, 0.06345586478710175), multiplicity: 196",
          "(0.0, 0.06345586478710175), multiplicity: 196",
          "(0.0, 0.06345586478710175), multiplicity: 196",
          "(0.0, 0.06345586478710175), multiplicity: 196",
          "(0.0, 0.06345586478710175), multiplicity: 196",
          "(0.0, 0.06345586478710175), multiplicity: 196",
          "(0.0, 0.06345586478710175), multiplicity: 196",
          "(0.0, 0.06345586478710175), multiplicity: 196",
          "(0.0, 0.06345586478710175), multiplicity: 196",
          "(0.0, 0.06345586478710175), multiplicity: 196",
          "(0.0, 0.06345586478710175), multiplicity: 196",
          "(0.0, 0.06345586478710175), multiplicity: 196",
          "(0.0, 0.06345586478710175), multiplicity: 196",
          "(0.0, 0.06345586478710175), multiplicity: 196",
          "(0.0, 0.06345586478710175), multiplicity: 196",
          "(0.0, 0.06345586478710175), multiplicity: 196",
          "(0.0, 0.06345586478710175), multiplicity: 196",
          "(0.0, 0.06345586478710175), multiplicity: 196",
          "(0.0, 0.06345586478710175), multiplicity: 196",
          "(0.0, 0.06345586478710175), multiplicity: 196",
          "(0.0, 0.06345586478710175), multiplicity: 196",
          "(0.0, 0.06345586478710175), multiplicity: 196",
          "(0.0, 0.06345586478710175), multiplicity: 196",
          "(0.0, 0.06345586478710175), multiplicity: 196",
          "(0.0, 0.06345586478710175), multiplicity: 196",
          "(0.0, 0.06345586478710175), multiplicity: 196",
          "(0.0, 0.06345586478710175), multiplicity: 196",
          "(0.0, 0.06345586478710175), multiplicity: 196",
          "(0.0, 0.06345586478710175), multiplicity: 196",
          "(0.0, 0.06345586478710175), multiplicity: 196",
          "(0.0, 0.06345586478710175), multiplicity: 196",
          "(0.0, 0.06345586478710175), multiplicity: 196",
          "(0.0, 0.06345586478710175), multiplicity: 196",
          "(0.0, 0.06345586478710175), multiplicity: 196",
          "(0.0, 0.06345586478710175), multiplicity: 196",
          "(0.0, 0.06345586478710175), multiplicity: 196",
          "(0.0, 0.06345586478710175), multiplicity: 196",
          "(0.0, 0.06345586478710175), multiplicity: 196",
          "(0.0, 0.06345586478710175), multiplicity: 196",
          "(0.0, 0.06345586478710175), multiplicity: 196",
          "(0.0, 0.06345586478710175), multiplicity: 196",
          "(0.0, 0.06345586478710175), multiplicity: 196",
          "(0.0, 0.06345586478710175), multiplicity: 196",
          "(0.0, 0.06345586478710175), multiplicity: 196",
          "(0.0, 0.06345586478710175), multiplicity: 196",
          "(0.0, 0.06345586478710175), multiplicity: 196",
          "(0.0, 0.06345586478710175), multiplicity: 196",
          "(0.0, 0.06345586478710175), multiplicity: 196",
          "(0.0, 0.06345586478710175), multiplicity: 196",
          "(0.0, 0.06345586478710175), multiplicity: 196",
          "(0.0, 0.06345586478710175), multiplicity: 196",
          "(0.0, 0.06345586478710175), multiplicity: 196",
          "(0.0, 0.06345586478710175), multiplicity: 196",
          "(0.0, 0.06345586478710175), multiplicity: 196",
          "(0.0, 0.06345586478710175), multiplicity: 196",
          "(0.0, 0.06345586478710175), multiplicity: 196",
          "(0.0, 0.06345586478710175), multiplicity: 196",
          "(0.0, 0.06345586478710175), multiplicity: 196",
          "(0.0, 0.06345586478710175), multiplicity: 196",
          "(0.0, 0.06345586478710175), multiplicity: 196",
          "(0.0, 0.06345586478710175), multiplicity: 196",
          "(0.0, 0.06345586478710175), multiplicity: 196",
          "(0.0, 0.06345586478710175), multiplicity: 196",
          "(0.0, 0.06345586478710175), multiplicity: 196",
          "(0.0, 0.06345586478710175), multiplicity: 196",
          "(0.0, 0.06345586478710175), multiplicity: 196",
          "(0.0, 0.06345586478710175), multiplicity: 196",
          "(0.0, 0.06345586478710175), multiplicity: 196",
          "(0.0, 0.06345586478710175), multiplicity: 196",
          "(0.0, 0.06345586478710175), multiplicity: 196",
          "(0.0, 0.06345586478710175), multiplicity: 196",
          "(0.0, 0.06345586478710175), multiplicity: 196",
          "(0.0, 0.06345586478710175), multiplicity: 196",
          "(0.0, 0.06345586478710175), multiplicity: 196",
          "(0.0, 0.06345586478710175), multiplicity: 196",
          "(0.0, 0.06345586478710175), multiplicity: 196",
          "(0.0, 0.06345586478710175), multiplicity: 196",
          "(0.0, 0.06345586478710175), multiplicity: 196",
          "(0.0, 0.06345586478710175), multiplicity: 196",
          "(0.0, 0.06345586478710175), multiplicity: 196",
          "(0.0, 0.06345586478710175), multiplicity: 196",
          "(0.0, 0.06345586478710175), multiplicity: 196",
          "(0.0, 0.06345586478710175), multiplicity: 196",
          "(0.0, 0.06345586478710175), multiplicity: 196",
          "(0.0, 0.06345586478710175), multiplicity: 196",
          "(0.0, 0.06345586478710175), multiplicity: 196",
          "(0.0, 0.06345586478710175), multiplicity: 196",
          "(0.0, 0.06345586478710175), multiplicity: 196",
          "(0.0, 0.06345586478710175), multiplicity: 196",
          "(0.0, 0.06345586478710175), multiplicity: 196",
          "(0.0, 0.06345586478710175), multiplicity: 196",
          "(0.0, 0.06345586478710175), multiplicity: 196",
          "(0.0, 0.06345586478710175), multiplicity: 196",
          "(0.0, 0.06345586478710175), multiplicity: 196",
          "(0.0, 0.06345586478710175), multiplicity: 196",
          "(0.0, 0.06345586478710175), multiplicity: 196",
          "(0.0, 0.06345586478710175), multiplicity: 196",
          "(0.0, 0.06345586478710175), multiplicity: 196",
          "(0.0, 0.06345586478710175), multiplicity: 196",
          "(0.0, 0.06345586478710175), multiplicity: 196",
          "(0.0, 0.06345586478710175), multiplicity: 196",
          "(0.0, 0.06345586478710175), multiplicity: 196",
          "(0.0, 0.06345586478710175), multiplicity: 196",
          "(0.0, 0.06345586478710175), multiplicity: 196",
          "(0.0, 0.06345586478710175), multiplicity: 196",
          "(0.0, 0.06345586478710175), multiplicity: 196",
          "(0.0, 0.06345586478710175), multiplicity: 196",
          "(0.0, 0.06345586478710175), multiplicity: 196",
          "(0.0, 0.06345586478710175), multiplicity: 196",
          "(0.0, 0.06345586478710175), multiplicity: 196",
          "(0.0, 0.06345586478710175), multiplicity: 196",
          "(0.0, 0.06345586478710175), multiplicity: 196",
          "(0.0, 0.06345586478710175), multiplicity: 196",
          "(0.0, 0.06345586478710175), multiplicity: 196",
          "(0.0, 0.06345586478710175), multiplicity: 196",
          "(0.0, 0.06345586478710175), multiplicity: 196",
          "(0.0, 0.06345586478710175), multiplicity: 196",
          "(0.0, 0.06345586478710175), multiplicity: 196",
          "(0.0, 0.06345586478710175), multiplicity: 196",
          "(0.0, 0.06345586478710175), multiplicity: 196",
          "(0.0, 0.06345586478710175), multiplicity: 196",
          "(0.0, 0.06345586478710175), multiplicity: 196",
          "(0.0, 0.06345586478710175), multiplicity: 196",
          "(0.0, 0.06345586478710175), multiplicity: 196",
          "(0.0, 0.06345586478710175), multiplicity: 196",
          "(0.0, 0.06345586478710175), multiplicity: 196",
          "(0.0, 0.06345586478710175), multiplicity: 196",
          "(0.0, 0.06345586478710175), multiplicity: 196",
          "(0.0, 0.06345586478710175), multiplicity: 196",
          "(0.0, 0.06345586478710175), multiplicity: 196",
          "(0.0, 0.06345586478710175), multiplicity: 196",
          "(0.0, 0.06345586478710175), multiplicity: 196",
          "(0.0, 0.06345586478710175), multiplicity: 196",
          "(0.0, 0.06345586478710175), multiplicity: 196",
          "(0.0, 0.06345586478710175), multiplicity: 196",
          "(0.0, 0.06345586478710175), multiplicity: 196",
          "(0.0, 0.06345586478710175), multiplicity: 196",
          "(0.0, 0.06345586478710175), multiplicity: 196",
          "(0.0, 0.06345586478710175), multiplicity: 196",
          "(0.0, 0.06345586478710175), multiplicity: 196",
          "(0.0, 0.06345586478710175), multiplicity: 196",
          "(0.0, 0.06345586478710175), multiplicity: 196",
          "(0.0, 0.06345586478710175), multiplicity: 196",
          "(0.0, 0.06345586478710175), multiplicity: 196",
          "(0.0, 0.06345586478710175), multiplicity: 196",
          "(0.0, 0.06345586478710175), multiplicity: 196",
          "(0.0, 0.06345586478710175), multiplicity: 196",
          "(0.0, 0.06345586478710175), multiplicity: 196",
          "(0.0, 0.06345586478710175), multiplicity: 196",
          "(0.0, 2.0002517700195312)"
         ],
         "mode": "markers",
         "name": "H0",
         "type": "scatter",
         "x": [
          0,
          0,
          0,
          0,
          0,
          0,
          0,
          0,
          0,
          0,
          0,
          0,
          0,
          0,
          0,
          0,
          0,
          0,
          0,
          0,
          0,
          0,
          0,
          0,
          0,
          0,
          0,
          0,
          0,
          0,
          0,
          0,
          0,
          0,
          0,
          0,
          0,
          0,
          0,
          0,
          0,
          0,
          0,
          0,
          0,
          0,
          0,
          0,
          0,
          0,
          0,
          0,
          0,
          0,
          0,
          0,
          0,
          0,
          0,
          0,
          0,
          0,
          0,
          0,
          0,
          0,
          0,
          0,
          0,
          0,
          0,
          0,
          0,
          0,
          0,
          0,
          0,
          0,
          0,
          0,
          0,
          0,
          0,
          0,
          0,
          0,
          0,
          0,
          0,
          0,
          0,
          0,
          0,
          0,
          0,
          0,
          0,
          0,
          0,
          0,
          0,
          0,
          0,
          0,
          0,
          0,
          0,
          0,
          0,
          0,
          0,
          0,
          0,
          0,
          0,
          0,
          0,
          0,
          0,
          0,
          0,
          0,
          0,
          0,
          0,
          0,
          0,
          0,
          0,
          0,
          0,
          0,
          0,
          0,
          0,
          0,
          0,
          0,
          0,
          0,
          0,
          0,
          0,
          0,
          0,
          0,
          0,
          0,
          0,
          0,
          0,
          0,
          0,
          0,
          0,
          0,
          0,
          0,
          0,
          0,
          0,
          0,
          0,
          0,
          0,
          0,
          0,
          0,
          0,
          0,
          0,
          0,
          0,
          0,
          0,
          0,
          0,
          0,
          0,
          0,
          0,
          0,
          0,
          0,
          0,
          0,
          0,
          0,
          0,
          0,
          0,
          0,
          0,
          0,
          0,
          0,
          0
         ],
         "y": [
          0.06345586478710175,
          0.06345586478710175,
          0.06345586478710175,
          0.06345586478710175,
          0.06345586478710175,
          0.06345586478710175,
          0.06345586478710175,
          0.06345586478710175,
          0.06345586478710175,
          0.06345586478710175,
          0.06345586478710175,
          0.06345586478710175,
          0.06345586478710175,
          0.06345586478710175,
          0.06345586478710175,
          0.06345586478710175,
          0.06345586478710175,
          0.06345586478710175,
          0.06345586478710175,
          0.06345586478710175,
          0.06345586478710175,
          0.06345586478710175,
          0.06345586478710175,
          0.06345586478710175,
          0.06345586478710175,
          0.06345586478710175,
          0.06345586478710175,
          0.06345586478710175,
          0.06345586478710175,
          0.06345586478710175,
          0.06345586478710175,
          0.06345586478710175,
          0.06345586478710175,
          0.06345586478710175,
          0.06345586478710175,
          0.06345586478710175,
          0.06345586478710175,
          0.06345586478710175,
          0.06345586478710175,
          0.06345586478710175,
          0.06345586478710175,
          0.06345586478710175,
          0.06345586478710175,
          0.06345586478710175,
          0.06345586478710175,
          0.06345586478710175,
          0.06345586478710175,
          0.06345586478710175,
          0.06345586478710175,
          0.06345586478710175,
          0.06345586478710175,
          0.06345586478710175,
          0.06345586478710175,
          0.06345586478710175,
          0.06345586478710175,
          0.06345586478710175,
          0.06345586478710175,
          0.06345586478710175,
          0.06345586478710175,
          0.06345586478710175,
          0.06345586478710175,
          0.06345586478710175,
          0.06345586478710175,
          0.06345586478710175,
          0.06345586478710175,
          0.06345586478710175,
          0.06345586478710175,
          0.06345586478710175,
          0.06345586478710175,
          0.06345586478710175,
          0.06345586478710175,
          0.06345586478710175,
          0.06345586478710175,
          0.06345586478710175,
          0.06345586478710175,
          0.06345586478710175,
          0.06345586478710175,
          0.06345586478710175,
          0.06345586478710175,
          0.06345586478710175,
          0.06345586478710175,
          0.06345586478710175,
          0.06345586478710175,
          0.06345586478710175,
          0.06345586478710175,
          0.06345586478710175,
          0.06345586478710175,
          0.06345586478710175,
          0.06345586478710175,
          0.06345586478710175,
          0.06345586478710175,
          0.06345586478710175,
          0.06345586478710175,
          0.06345586478710175,
          0.06345586478710175,
          0.06345586478710175,
          0.06345586478710175,
          0.06345586478710175,
          0.06345586478710175,
          0.06345586478710175,
          0.06345586478710175,
          0.06345586478710175,
          0.06345586478710175,
          0.06345586478710175,
          0.06345586478710175,
          0.06345586478710175,
          0.06345586478710175,
          0.06345586478710175,
          0.06345586478710175,
          0.06345586478710175,
          0.06345586478710175,
          0.06345586478710175,
          0.06345586478710175,
          0.06345586478710175,
          0.06345586478710175,
          0.06345586478710175,
          0.06345586478710175,
          0.06345586478710175,
          0.06345586478710175,
          0.06345586478710175,
          0.06345586478710175,
          0.06345586478710175,
          0.06345586478710175,
          0.06345586478710175,
          0.06345586478710175,
          0.06345586478710175,
          0.06345586478710175,
          0.06345586478710175,
          0.06345586478710175,
          0.06345586478710175,
          0.06345586478710175,
          0.06345586478710175,
          0.06345586478710175,
          0.06345586478710175,
          0.06345586478710175,
          0.06345586478710175,
          0.06345586478710175,
          0.06345586478710175,
          0.06345586478710175,
          0.06345586478710175,
          0.06345586478710175,
          0.06345586478710175,
          0.06345586478710175,
          0.06345586478710175,
          0.06345586478710175,
          0.06345586478710175,
          0.06345586478710175,
          0.06345586478710175,
          0.06345586478710175,
          0.06345586478710175,
          0.06345586478710175,
          0.06345586478710175,
          0.06345586478710175,
          0.06345586478710175,
          0.06345586478710175,
          0.06345586478710175,
          0.06345586478710175,
          0.06345586478710175,
          0.06345586478710175,
          0.06345586478710175,
          0.06345586478710175,
          0.06345586478710175,
          0.06345586478710175,
          0.06345586478710175,
          0.06345586478710175,
          0.06345586478710175,
          0.06345586478710175,
          0.06345586478710175,
          0.06345586478710175,
          0.06345586478710175,
          0.06345586478710175,
          0.06345586478710175,
          0.06345586478710175,
          0.06345586478710175,
          0.06345586478710175,
          0.06345586478710175,
          0.06345586478710175,
          0.06345586478710175,
          0.06345586478710175,
          0.06345586478710175,
          0.06345586478710175,
          0.06345586478710175,
          0.06345586478710175,
          0.06345586478710175,
          0.06345586478710175,
          0.06345586478710175,
          0.06345586478710175,
          0.06345586478710175,
          0.06345586478710175,
          0.06345586478710175,
          0.06345586478710175,
          0.06345586478710175,
          0.06345586478710175,
          0.06345586478710175,
          0.06345586478710175,
          0.06345586478710175,
          2.0002517700195312
         ]
        },
        {
         "hoverinfo": "text",
         "hovertext": [
          "(0.06345586478710175, 1.7320507764816284), multiplicity: 2",
          "(0.06345586478710175, 1.7320507764816284), multiplicity: 2"
         ],
         "mode": "markers",
         "name": "H1",
         "type": "scatter",
         "x": [
          0.06345586478710175,
          0.06345586478710175
         ],
         "y": [
          1.7320507764816284,
          1.7320507764816284
         ]
        }
       ],
       "layout": {
        "height": 500,
        "plot_bgcolor": "white",
        "template": {
         "data": {
          "bar": [
           {
            "error_x": {
             "color": "#2a3f5f"
            },
            "error_y": {
             "color": "#2a3f5f"
            },
            "marker": {
             "line": {
              "color": "#E5ECF6",
              "width": 0.5
             },
             "pattern": {
              "fillmode": "overlay",
              "size": 10,
              "solidity": 0.2
             }
            },
            "type": "bar"
           }
          ],
          "barpolar": [
           {
            "marker": {
             "line": {
              "color": "#E5ECF6",
              "width": 0.5
             },
             "pattern": {
              "fillmode": "overlay",
              "size": 10,
              "solidity": 0.2
             }
            },
            "type": "barpolar"
           }
          ],
          "carpet": [
           {
            "aaxis": {
             "endlinecolor": "#2a3f5f",
             "gridcolor": "white",
             "linecolor": "white",
             "minorgridcolor": "white",
             "startlinecolor": "#2a3f5f"
            },
            "baxis": {
             "endlinecolor": "#2a3f5f",
             "gridcolor": "white",
             "linecolor": "white",
             "minorgridcolor": "white",
             "startlinecolor": "#2a3f5f"
            },
            "type": "carpet"
           }
          ],
          "choropleth": [
           {
            "colorbar": {
             "outlinewidth": 0,
             "ticks": ""
            },
            "type": "choropleth"
           }
          ],
          "contour": [
           {
            "colorbar": {
             "outlinewidth": 0,
             "ticks": ""
            },
            "colorscale": [
             [
              0,
              "#0d0887"
             ],
             [
              0.1111111111111111,
              "#46039f"
             ],
             [
              0.2222222222222222,
              "#7201a8"
             ],
             [
              0.3333333333333333,
              "#9c179e"
             ],
             [
              0.4444444444444444,
              "#bd3786"
             ],
             [
              0.5555555555555556,
              "#d8576b"
             ],
             [
              0.6666666666666666,
              "#ed7953"
             ],
             [
              0.7777777777777778,
              "#fb9f3a"
             ],
             [
              0.8888888888888888,
              "#fdca26"
             ],
             [
              1,
              "#f0f921"
             ]
            ],
            "type": "contour"
           }
          ],
          "contourcarpet": [
           {
            "colorbar": {
             "outlinewidth": 0,
             "ticks": ""
            },
            "type": "contourcarpet"
           }
          ],
          "heatmap": [
           {
            "colorbar": {
             "outlinewidth": 0,
             "ticks": ""
            },
            "colorscale": [
             [
              0,
              "#0d0887"
             ],
             [
              0.1111111111111111,
              "#46039f"
             ],
             [
              0.2222222222222222,
              "#7201a8"
             ],
             [
              0.3333333333333333,
              "#9c179e"
             ],
             [
              0.4444444444444444,
              "#bd3786"
             ],
             [
              0.5555555555555556,
              "#d8576b"
             ],
             [
              0.6666666666666666,
              "#ed7953"
             ],
             [
              0.7777777777777778,
              "#fb9f3a"
             ],
             [
              0.8888888888888888,
              "#fdca26"
             ],
             [
              1,
              "#f0f921"
             ]
            ],
            "type": "heatmap"
           }
          ],
          "heatmapgl": [
           {
            "colorbar": {
             "outlinewidth": 0,
             "ticks": ""
            },
            "colorscale": [
             [
              0,
              "#0d0887"
             ],
             [
              0.1111111111111111,
              "#46039f"
             ],
             [
              0.2222222222222222,
              "#7201a8"
             ],
             [
              0.3333333333333333,
              "#9c179e"
             ],
             [
              0.4444444444444444,
              "#bd3786"
             ],
             [
              0.5555555555555556,
              "#d8576b"
             ],
             [
              0.6666666666666666,
              "#ed7953"
             ],
             [
              0.7777777777777778,
              "#fb9f3a"
             ],
             [
              0.8888888888888888,
              "#fdca26"
             ],
             [
              1,
              "#f0f921"
             ]
            ],
            "type": "heatmapgl"
           }
          ],
          "histogram": [
           {
            "marker": {
             "pattern": {
              "fillmode": "overlay",
              "size": 10,
              "solidity": 0.2
             }
            },
            "type": "histogram"
           }
          ],
          "histogram2d": [
           {
            "colorbar": {
             "outlinewidth": 0,
             "ticks": ""
            },
            "colorscale": [
             [
              0,
              "#0d0887"
             ],
             [
              0.1111111111111111,
              "#46039f"
             ],
             [
              0.2222222222222222,
              "#7201a8"
             ],
             [
              0.3333333333333333,
              "#9c179e"
             ],
             [
              0.4444444444444444,
              "#bd3786"
             ],
             [
              0.5555555555555556,
              "#d8576b"
             ],
             [
              0.6666666666666666,
              "#ed7953"
             ],
             [
              0.7777777777777778,
              "#fb9f3a"
             ],
             [
              0.8888888888888888,
              "#fdca26"
             ],
             [
              1,
              "#f0f921"
             ]
            ],
            "type": "histogram2d"
           }
          ],
          "histogram2dcontour": [
           {
            "colorbar": {
             "outlinewidth": 0,
             "ticks": ""
            },
            "colorscale": [
             [
              0,
              "#0d0887"
             ],
             [
              0.1111111111111111,
              "#46039f"
             ],
             [
              0.2222222222222222,
              "#7201a8"
             ],
             [
              0.3333333333333333,
              "#9c179e"
             ],
             [
              0.4444444444444444,
              "#bd3786"
             ],
             [
              0.5555555555555556,
              "#d8576b"
             ],
             [
              0.6666666666666666,
              "#ed7953"
             ],
             [
              0.7777777777777778,
              "#fb9f3a"
             ],
             [
              0.8888888888888888,
              "#fdca26"
             ],
             [
              1,
              "#f0f921"
             ]
            ],
            "type": "histogram2dcontour"
           }
          ],
          "mesh3d": [
           {
            "colorbar": {
             "outlinewidth": 0,
             "ticks": ""
            },
            "type": "mesh3d"
           }
          ],
          "parcoords": [
           {
            "line": {
             "colorbar": {
              "outlinewidth": 0,
              "ticks": ""
             }
            },
            "type": "parcoords"
           }
          ],
          "pie": [
           {
            "automargin": true,
            "type": "pie"
           }
          ],
          "scatter": [
           {
            "marker": {
             "colorbar": {
              "outlinewidth": 0,
              "ticks": ""
             }
            },
            "type": "scatter"
           }
          ],
          "scatter3d": [
           {
            "line": {
             "colorbar": {
              "outlinewidth": 0,
              "ticks": ""
             }
            },
            "marker": {
             "colorbar": {
              "outlinewidth": 0,
              "ticks": ""
             }
            },
            "type": "scatter3d"
           }
          ],
          "scattercarpet": [
           {
            "marker": {
             "colorbar": {
              "outlinewidth": 0,
              "ticks": ""
             }
            },
            "type": "scattercarpet"
           }
          ],
          "scattergeo": [
           {
            "marker": {
             "colorbar": {
              "outlinewidth": 0,
              "ticks": ""
             }
            },
            "type": "scattergeo"
           }
          ],
          "scattergl": [
           {
            "marker": {
             "colorbar": {
              "outlinewidth": 0,
              "ticks": ""
             }
            },
            "type": "scattergl"
           }
          ],
          "scattermapbox": [
           {
            "marker": {
             "colorbar": {
              "outlinewidth": 0,
              "ticks": ""
             }
            },
            "type": "scattermapbox"
           }
          ],
          "scatterpolar": [
           {
            "marker": {
             "colorbar": {
              "outlinewidth": 0,
              "ticks": ""
             }
            },
            "type": "scatterpolar"
           }
          ],
          "scatterpolargl": [
           {
            "marker": {
             "colorbar": {
              "outlinewidth": 0,
              "ticks": ""
             }
            },
            "type": "scatterpolargl"
           }
          ],
          "scatterternary": [
           {
            "marker": {
             "colorbar": {
              "outlinewidth": 0,
              "ticks": ""
             }
            },
            "type": "scatterternary"
           }
          ],
          "surface": [
           {
            "colorbar": {
             "outlinewidth": 0,
             "ticks": ""
            },
            "colorscale": [
             [
              0,
              "#0d0887"
             ],
             [
              0.1111111111111111,
              "#46039f"
             ],
             [
              0.2222222222222222,
              "#7201a8"
             ],
             [
              0.3333333333333333,
              "#9c179e"
             ],
             [
              0.4444444444444444,
              "#bd3786"
             ],
             [
              0.5555555555555556,
              "#d8576b"
             ],
             [
              0.6666666666666666,
              "#ed7953"
             ],
             [
              0.7777777777777778,
              "#fb9f3a"
             ],
             [
              0.8888888888888888,
              "#fdca26"
             ],
             [
              1,
              "#f0f921"
             ]
            ],
            "type": "surface"
           }
          ],
          "table": [
           {
            "cells": {
             "fill": {
              "color": "#EBF0F8"
             },
             "line": {
              "color": "white"
             }
            },
            "header": {
             "fill": {
              "color": "#C8D4E3"
             },
             "line": {
              "color": "white"
             }
            },
            "type": "table"
           }
          ]
         },
         "layout": {
          "annotationdefaults": {
           "arrowcolor": "#2a3f5f",
           "arrowhead": 0,
           "arrowwidth": 1
          },
          "autotypenumbers": "strict",
          "coloraxis": {
           "colorbar": {
            "outlinewidth": 0,
            "ticks": ""
           }
          },
          "colorscale": {
           "diverging": [
            [
             0,
             "#8e0152"
            ],
            [
             0.1,
             "#c51b7d"
            ],
            [
             0.2,
             "#de77ae"
            ],
            [
             0.3,
             "#f1b6da"
            ],
            [
             0.4,
             "#fde0ef"
            ],
            [
             0.5,
             "#f7f7f7"
            ],
            [
             0.6,
             "#e6f5d0"
            ],
            [
             0.7,
             "#b8e186"
            ],
            [
             0.8,
             "#7fbc41"
            ],
            [
             0.9,
             "#4d9221"
            ],
            [
             1,
             "#276419"
            ]
           ],
           "sequential": [
            [
             0,
             "#0d0887"
            ],
            [
             0.1111111111111111,
             "#46039f"
            ],
            [
             0.2222222222222222,
             "#7201a8"
            ],
            [
             0.3333333333333333,
             "#9c179e"
            ],
            [
             0.4444444444444444,
             "#bd3786"
            ],
            [
             0.5555555555555556,
             "#d8576b"
            ],
            [
             0.6666666666666666,
             "#ed7953"
            ],
            [
             0.7777777777777778,
             "#fb9f3a"
            ],
            [
             0.8888888888888888,
             "#fdca26"
            ],
            [
             1,
             "#f0f921"
            ]
           ],
           "sequentialminus": [
            [
             0,
             "#0d0887"
            ],
            [
             0.1111111111111111,
             "#46039f"
            ],
            [
             0.2222222222222222,
             "#7201a8"
            ],
            [
             0.3333333333333333,
             "#9c179e"
            ],
            [
             0.4444444444444444,
             "#bd3786"
            ],
            [
             0.5555555555555556,
             "#d8576b"
            ],
            [
             0.6666666666666666,
             "#ed7953"
            ],
            [
             0.7777777777777778,
             "#fb9f3a"
            ],
            [
             0.8888888888888888,
             "#fdca26"
            ],
            [
             1,
             "#f0f921"
            ]
           ]
          },
          "colorway": [
           "#636efa",
           "#EF553B",
           "#00cc96",
           "#ab63fa",
           "#FFA15A",
           "#19d3f3",
           "#FF6692",
           "#B6E880",
           "#FF97FF",
           "#FECB52"
          ],
          "font": {
           "color": "#2a3f5f"
          },
          "geo": {
           "bgcolor": "white",
           "lakecolor": "white",
           "landcolor": "#E5ECF6",
           "showlakes": true,
           "showland": true,
           "subunitcolor": "white"
          },
          "hoverlabel": {
           "align": "left"
          },
          "hovermode": "closest",
          "mapbox": {
           "style": "light"
          },
          "paper_bgcolor": "white",
          "plot_bgcolor": "#E5ECF6",
          "polar": {
           "angularaxis": {
            "gridcolor": "white",
            "linecolor": "white",
            "ticks": ""
           },
           "bgcolor": "#E5ECF6",
           "radialaxis": {
            "gridcolor": "white",
            "linecolor": "white",
            "ticks": ""
           }
          },
          "scene": {
           "xaxis": {
            "backgroundcolor": "#E5ECF6",
            "gridcolor": "white",
            "gridwidth": 2,
            "linecolor": "white",
            "showbackground": true,
            "ticks": "",
            "zerolinecolor": "white"
           },
           "yaxis": {
            "backgroundcolor": "#E5ECF6",
            "gridcolor": "white",
            "gridwidth": 2,
            "linecolor": "white",
            "showbackground": true,
            "ticks": "",
            "zerolinecolor": "white"
           },
           "zaxis": {
            "backgroundcolor": "#E5ECF6",
            "gridcolor": "white",
            "gridwidth": 2,
            "linecolor": "white",
            "showbackground": true,
            "ticks": "",
            "zerolinecolor": "white"
           }
          },
          "shapedefaults": {
           "line": {
            "color": "#2a3f5f"
           }
          },
          "ternary": {
           "aaxis": {
            "gridcolor": "white",
            "linecolor": "white",
            "ticks": ""
           },
           "baxis": {
            "gridcolor": "white",
            "linecolor": "white",
            "ticks": ""
           },
           "bgcolor": "#E5ECF6",
           "caxis": {
            "gridcolor": "white",
            "linecolor": "white",
            "ticks": ""
           }
          },
          "title": {
           "x": 0.05
          },
          "xaxis": {
           "automargin": true,
           "gridcolor": "white",
           "linecolor": "white",
           "ticks": "",
           "title": {
            "standoff": 15
           },
           "zerolinecolor": "white",
           "zerolinewidth": 2
          },
          "yaxis": {
           "automargin": true,
           "gridcolor": "white",
           "linecolor": "white",
           "ticks": "",
           "title": {
            "standoff": 15
           },
           "zerolinecolor": "white",
           "zerolinewidth": 2
          }
         }
        },
        "width": 500,
        "xaxis": {
         "autorange": false,
         "exponentformat": "e",
         "linecolor": "black",
         "linewidth": 1,
         "mirror": false,
         "range": [
          -0.040005035400390625,
          2.0402568054199217
         ],
         "showexponent": "all",
         "showline": true,
         "side": "bottom",
         "ticks": "outside",
         "title": {
          "text": "Birth"
         },
         "type": "linear",
         "zeroline": true
        },
        "yaxis": {
         "autorange": false,
         "exponentformat": "e",
         "linecolor": "black",
         "linewidth": 1,
         "mirror": false,
         "range": [
          -0.040005035400390625,
          2.0402568054199217
         ],
         "scaleanchor": "x",
         "scaleratio": 1,
         "showexponent": "all",
         "showline": true,
         "side": "left",
         "ticks": "outside",
         "title": {
          "text": "Death"
         },
         "type": "linear",
         "zeroline": true
        }
       }
      },
      "text/html": [
       "<div>                            <div id=\"6257c4ab-e3f5-4f4c-bd9e-df5b05aa8c77\" class=\"plotly-graph-div\" style=\"height:500px; width:500px;\"></div>            <script type=\"text/javascript\">                require([\"plotly\"], function(Plotly) {                    window.PLOTLYENV=window.PLOTLYENV || {};                                    if (document.getElementById(\"6257c4ab-e3f5-4f4c-bd9e-df5b05aa8c77\")) {                    Plotly.newPlot(                        \"6257c4ab-e3f5-4f4c-bd9e-df5b05aa8c77\",                        [{\"hoverinfo\":\"none\",\"line\":{\"color\":\"black\",\"dash\":\"dash\",\"width\":1},\"mode\":\"lines\",\"showlegend\":false,\"type\":\"scatter\",\"x\":[-0.040005035400390625,2.0402568054199217],\"y\":[-0.040005035400390625,2.0402568054199217]},{\"hoverinfo\":\"text\",\"hovertext\":[\"(0.0, 0.06345586478710175), multiplicity: 196\",\"(0.0, 0.06345586478710175), multiplicity: 196\",\"(0.0, 0.06345586478710175), multiplicity: 196\",\"(0.0, 0.06345586478710175), multiplicity: 196\",\"(0.0, 0.06345586478710175), multiplicity: 196\",\"(0.0, 0.06345586478710175), multiplicity: 196\",\"(0.0, 0.06345586478710175), multiplicity: 196\",\"(0.0, 0.06345586478710175), multiplicity: 196\",\"(0.0, 0.06345586478710175), multiplicity: 196\",\"(0.0, 0.06345586478710175), multiplicity: 196\",\"(0.0, 0.06345586478710175), multiplicity: 196\",\"(0.0, 0.06345586478710175), multiplicity: 196\",\"(0.0, 0.06345586478710175), multiplicity: 196\",\"(0.0, 0.06345586478710175), multiplicity: 196\",\"(0.0, 0.06345586478710175), multiplicity: 196\",\"(0.0, 0.06345586478710175), multiplicity: 196\",\"(0.0, 0.06345586478710175), multiplicity: 196\",\"(0.0, 0.06345586478710175), multiplicity: 196\",\"(0.0, 0.06345586478710175), multiplicity: 196\",\"(0.0, 0.06345586478710175), multiplicity: 196\",\"(0.0, 0.06345586478710175), multiplicity: 196\",\"(0.0, 0.06345586478710175), multiplicity: 196\",\"(0.0, 0.06345586478710175), multiplicity: 196\",\"(0.0, 0.06345586478710175), multiplicity: 196\",\"(0.0, 0.06345586478710175), multiplicity: 196\",\"(0.0, 0.06345586478710175), multiplicity: 196\",\"(0.0, 0.06345586478710175), multiplicity: 196\",\"(0.0, 0.06345586478710175), multiplicity: 196\",\"(0.0, 0.06345586478710175), multiplicity: 196\",\"(0.0, 0.06345586478710175), multiplicity: 196\",\"(0.0, 0.06345586478710175), multiplicity: 196\",\"(0.0, 0.06345586478710175), multiplicity: 196\",\"(0.0, 0.06345586478710175), multiplicity: 196\",\"(0.0, 0.06345586478710175), multiplicity: 196\",\"(0.0, 0.06345586478710175), multiplicity: 196\",\"(0.0, 0.06345586478710175), multiplicity: 196\",\"(0.0, 0.06345586478710175), multiplicity: 196\",\"(0.0, 0.06345586478710175), multiplicity: 196\",\"(0.0, 0.06345586478710175), multiplicity: 196\",\"(0.0, 0.06345586478710175), multiplicity: 196\",\"(0.0, 0.06345586478710175), multiplicity: 196\",\"(0.0, 0.06345586478710175), multiplicity: 196\",\"(0.0, 0.06345586478710175), multiplicity: 196\",\"(0.0, 0.06345586478710175), multiplicity: 196\",\"(0.0, 0.06345586478710175), multiplicity: 196\",\"(0.0, 0.06345586478710175), multiplicity: 196\",\"(0.0, 0.06345586478710175), multiplicity: 196\",\"(0.0, 0.06345586478710175), multiplicity: 196\",\"(0.0, 0.06345586478710175), multiplicity: 196\",\"(0.0, 0.06345586478710175), multiplicity: 196\",\"(0.0, 0.06345586478710175), multiplicity: 196\",\"(0.0, 0.06345586478710175), multiplicity: 196\",\"(0.0, 0.06345586478710175), multiplicity: 196\",\"(0.0, 0.06345586478710175), multiplicity: 196\",\"(0.0, 0.06345586478710175), multiplicity: 196\",\"(0.0, 0.06345586478710175), multiplicity: 196\",\"(0.0, 0.06345586478710175), multiplicity: 196\",\"(0.0, 0.06345586478710175), multiplicity: 196\",\"(0.0, 0.06345586478710175), multiplicity: 196\",\"(0.0, 0.06345586478710175), multiplicity: 196\",\"(0.0, 0.06345586478710175), multiplicity: 196\",\"(0.0, 0.06345586478710175), multiplicity: 196\",\"(0.0, 0.06345586478710175), multiplicity: 196\",\"(0.0, 0.06345586478710175), multiplicity: 196\",\"(0.0, 0.06345586478710175), multiplicity: 196\",\"(0.0, 0.06345586478710175), multiplicity: 196\",\"(0.0, 0.06345586478710175), multiplicity: 196\",\"(0.0, 0.06345586478710175), multiplicity: 196\",\"(0.0, 0.06345586478710175), multiplicity: 196\",\"(0.0, 0.06345586478710175), multiplicity: 196\",\"(0.0, 0.06345586478710175), multiplicity: 196\",\"(0.0, 0.06345586478710175), multiplicity: 196\",\"(0.0, 0.06345586478710175), multiplicity: 196\",\"(0.0, 0.06345586478710175), multiplicity: 196\",\"(0.0, 0.06345586478710175), multiplicity: 196\",\"(0.0, 0.06345586478710175), multiplicity: 196\",\"(0.0, 0.06345586478710175), multiplicity: 196\",\"(0.0, 0.06345586478710175), multiplicity: 196\",\"(0.0, 0.06345586478710175), multiplicity: 196\",\"(0.0, 0.06345586478710175), multiplicity: 196\",\"(0.0, 0.06345586478710175), multiplicity: 196\",\"(0.0, 0.06345586478710175), multiplicity: 196\",\"(0.0, 0.06345586478710175), multiplicity: 196\",\"(0.0, 0.06345586478710175), multiplicity: 196\",\"(0.0, 0.06345586478710175), multiplicity: 196\",\"(0.0, 0.06345586478710175), multiplicity: 196\",\"(0.0, 0.06345586478710175), multiplicity: 196\",\"(0.0, 0.06345586478710175), multiplicity: 196\",\"(0.0, 0.06345586478710175), multiplicity: 196\",\"(0.0, 0.06345586478710175), multiplicity: 196\",\"(0.0, 0.06345586478710175), multiplicity: 196\",\"(0.0, 0.06345586478710175), multiplicity: 196\",\"(0.0, 0.06345586478710175), multiplicity: 196\",\"(0.0, 0.06345586478710175), multiplicity: 196\",\"(0.0, 0.06345586478710175), multiplicity: 196\",\"(0.0, 0.06345586478710175), multiplicity: 196\",\"(0.0, 0.06345586478710175), multiplicity: 196\",\"(0.0, 0.06345586478710175), multiplicity: 196\",\"(0.0, 0.06345586478710175), multiplicity: 196\",\"(0.0, 0.06345586478710175), multiplicity: 196\",\"(0.0, 0.06345586478710175), multiplicity: 196\",\"(0.0, 0.06345586478710175), multiplicity: 196\",\"(0.0, 0.06345586478710175), multiplicity: 196\",\"(0.0, 0.06345586478710175), multiplicity: 196\",\"(0.0, 0.06345586478710175), multiplicity: 196\",\"(0.0, 0.06345586478710175), multiplicity: 196\",\"(0.0, 0.06345586478710175), multiplicity: 196\",\"(0.0, 0.06345586478710175), multiplicity: 196\",\"(0.0, 0.06345586478710175), multiplicity: 196\",\"(0.0, 0.06345586478710175), multiplicity: 196\",\"(0.0, 0.06345586478710175), multiplicity: 196\",\"(0.0, 0.06345586478710175), multiplicity: 196\",\"(0.0, 0.06345586478710175), multiplicity: 196\",\"(0.0, 0.06345586478710175), multiplicity: 196\",\"(0.0, 0.06345586478710175), multiplicity: 196\",\"(0.0, 0.06345586478710175), multiplicity: 196\",\"(0.0, 0.06345586478710175), multiplicity: 196\",\"(0.0, 0.06345586478710175), multiplicity: 196\",\"(0.0, 0.06345586478710175), multiplicity: 196\",\"(0.0, 0.06345586478710175), multiplicity: 196\",\"(0.0, 0.06345586478710175), multiplicity: 196\",\"(0.0, 0.06345586478710175), multiplicity: 196\",\"(0.0, 0.06345586478710175), multiplicity: 196\",\"(0.0, 0.06345586478710175), multiplicity: 196\",\"(0.0, 0.06345586478710175), multiplicity: 196\",\"(0.0, 0.06345586478710175), multiplicity: 196\",\"(0.0, 0.06345586478710175), multiplicity: 196\",\"(0.0, 0.06345586478710175), multiplicity: 196\",\"(0.0, 0.06345586478710175), multiplicity: 196\",\"(0.0, 0.06345586478710175), multiplicity: 196\",\"(0.0, 0.06345586478710175), multiplicity: 196\",\"(0.0, 0.06345586478710175), multiplicity: 196\",\"(0.0, 0.06345586478710175), multiplicity: 196\",\"(0.0, 0.06345586478710175), multiplicity: 196\",\"(0.0, 0.06345586478710175), multiplicity: 196\",\"(0.0, 0.06345586478710175), multiplicity: 196\",\"(0.0, 0.06345586478710175), multiplicity: 196\",\"(0.0, 0.06345586478710175), multiplicity: 196\",\"(0.0, 0.06345586478710175), multiplicity: 196\",\"(0.0, 0.06345586478710175), multiplicity: 196\",\"(0.0, 0.06345586478710175), multiplicity: 196\",\"(0.0, 0.06345586478710175), multiplicity: 196\",\"(0.0, 0.06345586478710175), multiplicity: 196\",\"(0.0, 0.06345586478710175), multiplicity: 196\",\"(0.0, 0.06345586478710175), multiplicity: 196\",\"(0.0, 0.06345586478710175), multiplicity: 196\",\"(0.0, 0.06345586478710175), multiplicity: 196\",\"(0.0, 0.06345586478710175), multiplicity: 196\",\"(0.0, 0.06345586478710175), multiplicity: 196\",\"(0.0, 0.06345586478710175), multiplicity: 196\",\"(0.0, 0.06345586478710175), multiplicity: 196\",\"(0.0, 0.06345586478710175), multiplicity: 196\",\"(0.0, 0.06345586478710175), multiplicity: 196\",\"(0.0, 0.06345586478710175), multiplicity: 196\",\"(0.0, 0.06345586478710175), multiplicity: 196\",\"(0.0, 0.06345586478710175), multiplicity: 196\",\"(0.0, 0.06345586478710175), multiplicity: 196\",\"(0.0, 0.06345586478710175), multiplicity: 196\",\"(0.0, 0.06345586478710175), multiplicity: 196\",\"(0.0, 0.06345586478710175), multiplicity: 196\",\"(0.0, 0.06345586478710175), multiplicity: 196\",\"(0.0, 0.06345586478710175), multiplicity: 196\",\"(0.0, 0.06345586478710175), multiplicity: 196\",\"(0.0, 0.06345586478710175), multiplicity: 196\",\"(0.0, 0.06345586478710175), multiplicity: 196\",\"(0.0, 0.06345586478710175), multiplicity: 196\",\"(0.0, 0.06345586478710175), multiplicity: 196\",\"(0.0, 0.06345586478710175), multiplicity: 196\",\"(0.0, 0.06345586478710175), multiplicity: 196\",\"(0.0, 0.06345586478710175), multiplicity: 196\",\"(0.0, 0.06345586478710175), multiplicity: 196\",\"(0.0, 0.06345586478710175), multiplicity: 196\",\"(0.0, 0.06345586478710175), multiplicity: 196\",\"(0.0, 0.06345586478710175), multiplicity: 196\",\"(0.0, 0.06345586478710175), multiplicity: 196\",\"(0.0, 0.06345586478710175), multiplicity: 196\",\"(0.0, 0.06345586478710175), multiplicity: 196\",\"(0.0, 0.06345586478710175), multiplicity: 196\",\"(0.0, 0.06345586478710175), multiplicity: 196\",\"(0.0, 0.06345586478710175), multiplicity: 196\",\"(0.0, 0.06345586478710175), multiplicity: 196\",\"(0.0, 0.06345586478710175), multiplicity: 196\",\"(0.0, 0.06345586478710175), multiplicity: 196\",\"(0.0, 0.06345586478710175), multiplicity: 196\",\"(0.0, 0.06345586478710175), multiplicity: 196\",\"(0.0, 0.06345586478710175), multiplicity: 196\",\"(0.0, 0.06345586478710175), multiplicity: 196\",\"(0.0, 0.06345586478710175), multiplicity: 196\",\"(0.0, 0.06345586478710175), multiplicity: 196\",\"(0.0, 0.06345586478710175), multiplicity: 196\",\"(0.0, 0.06345586478710175), multiplicity: 196\",\"(0.0, 0.06345586478710175), multiplicity: 196\",\"(0.0, 0.06345586478710175), multiplicity: 196\",\"(0.0, 0.06345586478710175), multiplicity: 196\",\"(0.0, 0.06345586478710175), multiplicity: 196\",\"(0.0, 0.06345586478710175), multiplicity: 196\",\"(0.0, 2.0002517700195312)\"],\"mode\":\"markers\",\"name\":\"H0\",\"type\":\"scatter\",\"x\":[0.0,0.0,0.0,0.0,0.0,0.0,0.0,0.0,0.0,0.0,0.0,0.0,0.0,0.0,0.0,0.0,0.0,0.0,0.0,0.0,0.0,0.0,0.0,0.0,0.0,0.0,0.0,0.0,0.0,0.0,0.0,0.0,0.0,0.0,0.0,0.0,0.0,0.0,0.0,0.0,0.0,0.0,0.0,0.0,0.0,0.0,0.0,0.0,0.0,0.0,0.0,0.0,0.0,0.0,0.0,0.0,0.0,0.0,0.0,0.0,0.0,0.0,0.0,0.0,0.0,0.0,0.0,0.0,0.0,0.0,0.0,0.0,0.0,0.0,0.0,0.0,0.0,0.0,0.0,0.0,0.0,0.0,0.0,0.0,0.0,0.0,0.0,0.0,0.0,0.0,0.0,0.0,0.0,0.0,0.0,0.0,0.0,0.0,0.0,0.0,0.0,0.0,0.0,0.0,0.0,0.0,0.0,0.0,0.0,0.0,0.0,0.0,0.0,0.0,0.0,0.0,0.0,0.0,0.0,0.0,0.0,0.0,0.0,0.0,0.0,0.0,0.0,0.0,0.0,0.0,0.0,0.0,0.0,0.0,0.0,0.0,0.0,0.0,0.0,0.0,0.0,0.0,0.0,0.0,0.0,0.0,0.0,0.0,0.0,0.0,0.0,0.0,0.0,0.0,0.0,0.0,0.0,0.0,0.0,0.0,0.0,0.0,0.0,0.0,0.0,0.0,0.0,0.0,0.0,0.0,0.0,0.0,0.0,0.0,0.0,0.0,0.0,0.0,0.0,0.0,0.0,0.0,0.0,0.0,0.0,0.0,0.0,0.0,0.0,0.0,0.0,0.0,0.0,0.0,0.0,0.0,0.0],\"y\":[0.06345586478710175,0.06345586478710175,0.06345586478710175,0.06345586478710175,0.06345586478710175,0.06345586478710175,0.06345586478710175,0.06345586478710175,0.06345586478710175,0.06345586478710175,0.06345586478710175,0.06345586478710175,0.06345586478710175,0.06345586478710175,0.06345586478710175,0.06345586478710175,0.06345586478710175,0.06345586478710175,0.06345586478710175,0.06345586478710175,0.06345586478710175,0.06345586478710175,0.06345586478710175,0.06345586478710175,0.06345586478710175,0.06345586478710175,0.06345586478710175,0.06345586478710175,0.06345586478710175,0.06345586478710175,0.06345586478710175,0.06345586478710175,0.06345586478710175,0.06345586478710175,0.06345586478710175,0.06345586478710175,0.06345586478710175,0.06345586478710175,0.06345586478710175,0.06345586478710175,0.06345586478710175,0.06345586478710175,0.06345586478710175,0.06345586478710175,0.06345586478710175,0.06345586478710175,0.06345586478710175,0.06345586478710175,0.06345586478710175,0.06345586478710175,0.06345586478710175,0.06345586478710175,0.06345586478710175,0.06345586478710175,0.06345586478710175,0.06345586478710175,0.06345586478710175,0.06345586478710175,0.06345586478710175,0.06345586478710175,0.06345586478710175,0.06345586478710175,0.06345586478710175,0.06345586478710175,0.06345586478710175,0.06345586478710175,0.06345586478710175,0.06345586478710175,0.06345586478710175,0.06345586478710175,0.06345586478710175,0.06345586478710175,0.06345586478710175,0.06345586478710175,0.06345586478710175,0.06345586478710175,0.06345586478710175,0.06345586478710175,0.06345586478710175,0.06345586478710175,0.06345586478710175,0.06345586478710175,0.06345586478710175,0.06345586478710175,0.06345586478710175,0.06345586478710175,0.06345586478710175,0.06345586478710175,0.06345586478710175,0.06345586478710175,0.06345586478710175,0.06345586478710175,0.06345586478710175,0.06345586478710175,0.06345586478710175,0.06345586478710175,0.06345586478710175,0.06345586478710175,0.06345586478710175,0.06345586478710175,0.06345586478710175,0.06345586478710175,0.06345586478710175,0.06345586478710175,0.06345586478710175,0.06345586478710175,0.06345586478710175,0.06345586478710175,0.06345586478710175,0.06345586478710175,0.06345586478710175,0.06345586478710175,0.06345586478710175,0.06345586478710175,0.06345586478710175,0.06345586478710175,0.06345586478710175,0.06345586478710175,0.06345586478710175,0.06345586478710175,0.06345586478710175,0.06345586478710175,0.06345586478710175,0.06345586478710175,0.06345586478710175,0.06345586478710175,0.06345586478710175,0.06345586478710175,0.06345586478710175,0.06345586478710175,0.06345586478710175,0.06345586478710175,0.06345586478710175,0.06345586478710175,0.06345586478710175,0.06345586478710175,0.06345586478710175,0.06345586478710175,0.06345586478710175,0.06345586478710175,0.06345586478710175,0.06345586478710175,0.06345586478710175,0.06345586478710175,0.06345586478710175,0.06345586478710175,0.06345586478710175,0.06345586478710175,0.06345586478710175,0.06345586478710175,0.06345586478710175,0.06345586478710175,0.06345586478710175,0.06345586478710175,0.06345586478710175,0.06345586478710175,0.06345586478710175,0.06345586478710175,0.06345586478710175,0.06345586478710175,0.06345586478710175,0.06345586478710175,0.06345586478710175,0.06345586478710175,0.06345586478710175,0.06345586478710175,0.06345586478710175,0.06345586478710175,0.06345586478710175,0.06345586478710175,0.06345586478710175,0.06345586478710175,0.06345586478710175,0.06345586478710175,0.06345586478710175,0.06345586478710175,0.06345586478710175,0.06345586478710175,0.06345586478710175,0.06345586478710175,0.06345586478710175,0.06345586478710175,0.06345586478710175,0.06345586478710175,0.06345586478710175,0.06345586478710175,0.06345586478710175,0.06345586478710175,0.06345586478710175,0.06345586478710175,0.06345586478710175,0.06345586478710175,0.06345586478710175,0.06345586478710175,0.06345586478710175,0.06345586478710175,2.0002517700195312]},{\"hoverinfo\":\"text\",\"hovertext\":[\"(0.06345586478710175, 1.7320507764816284), multiplicity: 2\",\"(0.06345586478710175, 1.7320507764816284), multiplicity: 2\"],\"mode\":\"markers\",\"name\":\"H1\",\"type\":\"scatter\",\"x\":[0.06345586478710175,0.06345586478710175],\"y\":[1.7320507764816284,1.7320507764816284]}],                        {\"height\":500,\"plot_bgcolor\":\"white\",\"template\":{\"data\":{\"bar\":[{\"error_x\":{\"color\":\"#2a3f5f\"},\"error_y\":{\"color\":\"#2a3f5f\"},\"marker\":{\"line\":{\"color\":\"#E5ECF6\",\"width\":0.5},\"pattern\":{\"fillmode\":\"overlay\",\"size\":10,\"solidity\":0.2}},\"type\":\"bar\"}],\"barpolar\":[{\"marker\":{\"line\":{\"color\":\"#E5ECF6\",\"width\":0.5},\"pattern\":{\"fillmode\":\"overlay\",\"size\":10,\"solidity\":0.2}},\"type\":\"barpolar\"}],\"carpet\":[{\"aaxis\":{\"endlinecolor\":\"#2a3f5f\",\"gridcolor\":\"white\",\"linecolor\":\"white\",\"minorgridcolor\":\"white\",\"startlinecolor\":\"#2a3f5f\"},\"baxis\":{\"endlinecolor\":\"#2a3f5f\",\"gridcolor\":\"white\",\"linecolor\":\"white\",\"minorgridcolor\":\"white\",\"startlinecolor\":\"#2a3f5f\"},\"type\":\"carpet\"}],\"choropleth\":[{\"colorbar\":{\"outlinewidth\":0,\"ticks\":\"\"},\"type\":\"choropleth\"}],\"contour\":[{\"colorbar\":{\"outlinewidth\":0,\"ticks\":\"\"},\"colorscale\":[[0.0,\"#0d0887\"],[0.1111111111111111,\"#46039f\"],[0.2222222222222222,\"#7201a8\"],[0.3333333333333333,\"#9c179e\"],[0.4444444444444444,\"#bd3786\"],[0.5555555555555556,\"#d8576b\"],[0.6666666666666666,\"#ed7953\"],[0.7777777777777778,\"#fb9f3a\"],[0.8888888888888888,\"#fdca26\"],[1.0,\"#f0f921\"]],\"type\":\"contour\"}],\"contourcarpet\":[{\"colorbar\":{\"outlinewidth\":0,\"ticks\":\"\"},\"type\":\"contourcarpet\"}],\"heatmap\":[{\"colorbar\":{\"outlinewidth\":0,\"ticks\":\"\"},\"colorscale\":[[0.0,\"#0d0887\"],[0.1111111111111111,\"#46039f\"],[0.2222222222222222,\"#7201a8\"],[0.3333333333333333,\"#9c179e\"],[0.4444444444444444,\"#bd3786\"],[0.5555555555555556,\"#d8576b\"],[0.6666666666666666,\"#ed7953\"],[0.7777777777777778,\"#fb9f3a\"],[0.8888888888888888,\"#fdca26\"],[1.0,\"#f0f921\"]],\"type\":\"heatmap\"}],\"heatmapgl\":[{\"colorbar\":{\"outlinewidth\":0,\"ticks\":\"\"},\"colorscale\":[[0.0,\"#0d0887\"],[0.1111111111111111,\"#46039f\"],[0.2222222222222222,\"#7201a8\"],[0.3333333333333333,\"#9c179e\"],[0.4444444444444444,\"#bd3786\"],[0.5555555555555556,\"#d8576b\"],[0.6666666666666666,\"#ed7953\"],[0.7777777777777778,\"#fb9f3a\"],[0.8888888888888888,\"#fdca26\"],[1.0,\"#f0f921\"]],\"type\":\"heatmapgl\"}],\"histogram\":[{\"marker\":{\"pattern\":{\"fillmode\":\"overlay\",\"size\":10,\"solidity\":0.2}},\"type\":\"histogram\"}],\"histogram2d\":[{\"colorbar\":{\"outlinewidth\":0,\"ticks\":\"\"},\"colorscale\":[[0.0,\"#0d0887\"],[0.1111111111111111,\"#46039f\"],[0.2222222222222222,\"#7201a8\"],[0.3333333333333333,\"#9c179e\"],[0.4444444444444444,\"#bd3786\"],[0.5555555555555556,\"#d8576b\"],[0.6666666666666666,\"#ed7953\"],[0.7777777777777778,\"#fb9f3a\"],[0.8888888888888888,\"#fdca26\"],[1.0,\"#f0f921\"]],\"type\":\"histogram2d\"}],\"histogram2dcontour\":[{\"colorbar\":{\"outlinewidth\":0,\"ticks\":\"\"},\"colorscale\":[[0.0,\"#0d0887\"],[0.1111111111111111,\"#46039f\"],[0.2222222222222222,\"#7201a8\"],[0.3333333333333333,\"#9c179e\"],[0.4444444444444444,\"#bd3786\"],[0.5555555555555556,\"#d8576b\"],[0.6666666666666666,\"#ed7953\"],[0.7777777777777778,\"#fb9f3a\"],[0.8888888888888888,\"#fdca26\"],[1.0,\"#f0f921\"]],\"type\":\"histogram2dcontour\"}],\"mesh3d\":[{\"colorbar\":{\"outlinewidth\":0,\"ticks\":\"\"},\"type\":\"mesh3d\"}],\"parcoords\":[{\"line\":{\"colorbar\":{\"outlinewidth\":0,\"ticks\":\"\"}},\"type\":\"parcoords\"}],\"pie\":[{\"automargin\":true,\"type\":\"pie\"}],\"scatter\":[{\"marker\":{\"colorbar\":{\"outlinewidth\":0,\"ticks\":\"\"}},\"type\":\"scatter\"}],\"scatter3d\":[{\"line\":{\"colorbar\":{\"outlinewidth\":0,\"ticks\":\"\"}},\"marker\":{\"colorbar\":{\"outlinewidth\":0,\"ticks\":\"\"}},\"type\":\"scatter3d\"}],\"scattercarpet\":[{\"marker\":{\"colorbar\":{\"outlinewidth\":0,\"ticks\":\"\"}},\"type\":\"scattercarpet\"}],\"scattergeo\":[{\"marker\":{\"colorbar\":{\"outlinewidth\":0,\"ticks\":\"\"}},\"type\":\"scattergeo\"}],\"scattergl\":[{\"marker\":{\"colorbar\":{\"outlinewidth\":0,\"ticks\":\"\"}},\"type\":\"scattergl\"}],\"scattermapbox\":[{\"marker\":{\"colorbar\":{\"outlinewidth\":0,\"ticks\":\"\"}},\"type\":\"scattermapbox\"}],\"scatterpolar\":[{\"marker\":{\"colorbar\":{\"outlinewidth\":0,\"ticks\":\"\"}},\"type\":\"scatterpolar\"}],\"scatterpolargl\":[{\"marker\":{\"colorbar\":{\"outlinewidth\":0,\"ticks\":\"\"}},\"type\":\"scatterpolargl\"}],\"scatterternary\":[{\"marker\":{\"colorbar\":{\"outlinewidth\":0,\"ticks\":\"\"}},\"type\":\"scatterternary\"}],\"surface\":[{\"colorbar\":{\"outlinewidth\":0,\"ticks\":\"\"},\"colorscale\":[[0.0,\"#0d0887\"],[0.1111111111111111,\"#46039f\"],[0.2222222222222222,\"#7201a8\"],[0.3333333333333333,\"#9c179e\"],[0.4444444444444444,\"#bd3786\"],[0.5555555555555556,\"#d8576b\"],[0.6666666666666666,\"#ed7953\"],[0.7777777777777778,\"#fb9f3a\"],[0.8888888888888888,\"#fdca26\"],[1.0,\"#f0f921\"]],\"type\":\"surface\"}],\"table\":[{\"cells\":{\"fill\":{\"color\":\"#EBF0F8\"},\"line\":{\"color\":\"white\"}},\"header\":{\"fill\":{\"color\":\"#C8D4E3\"},\"line\":{\"color\":\"white\"}},\"type\":\"table\"}]},\"layout\":{\"annotationdefaults\":{\"arrowcolor\":\"#2a3f5f\",\"arrowhead\":0,\"arrowwidth\":1},\"autotypenumbers\":\"strict\",\"coloraxis\":{\"colorbar\":{\"outlinewidth\":0,\"ticks\":\"\"}},\"colorscale\":{\"diverging\":[[0,\"#8e0152\"],[0.1,\"#c51b7d\"],[0.2,\"#de77ae\"],[0.3,\"#f1b6da\"],[0.4,\"#fde0ef\"],[0.5,\"#f7f7f7\"],[0.6,\"#e6f5d0\"],[0.7,\"#b8e186\"],[0.8,\"#7fbc41\"],[0.9,\"#4d9221\"],[1,\"#276419\"]],\"sequential\":[[0.0,\"#0d0887\"],[0.1111111111111111,\"#46039f\"],[0.2222222222222222,\"#7201a8\"],[0.3333333333333333,\"#9c179e\"],[0.4444444444444444,\"#bd3786\"],[0.5555555555555556,\"#d8576b\"],[0.6666666666666666,\"#ed7953\"],[0.7777777777777778,\"#fb9f3a\"],[0.8888888888888888,\"#fdca26\"],[1.0,\"#f0f921\"]],\"sequentialminus\":[[0.0,\"#0d0887\"],[0.1111111111111111,\"#46039f\"],[0.2222222222222222,\"#7201a8\"],[0.3333333333333333,\"#9c179e\"],[0.4444444444444444,\"#bd3786\"],[0.5555555555555556,\"#d8576b\"],[0.6666666666666666,\"#ed7953\"],[0.7777777777777778,\"#fb9f3a\"],[0.8888888888888888,\"#fdca26\"],[1.0,\"#f0f921\"]]},\"colorway\":[\"#636efa\",\"#EF553B\",\"#00cc96\",\"#ab63fa\",\"#FFA15A\",\"#19d3f3\",\"#FF6692\",\"#B6E880\",\"#FF97FF\",\"#FECB52\"],\"font\":{\"color\":\"#2a3f5f\"},\"geo\":{\"bgcolor\":\"white\",\"lakecolor\":\"white\",\"landcolor\":\"#E5ECF6\",\"showlakes\":true,\"showland\":true,\"subunitcolor\":\"white\"},\"hoverlabel\":{\"align\":\"left\"},\"hovermode\":\"closest\",\"mapbox\":{\"style\":\"light\"},\"paper_bgcolor\":\"white\",\"plot_bgcolor\":\"#E5ECF6\",\"polar\":{\"angularaxis\":{\"gridcolor\":\"white\",\"linecolor\":\"white\",\"ticks\":\"\"},\"bgcolor\":\"#E5ECF6\",\"radialaxis\":{\"gridcolor\":\"white\",\"linecolor\":\"white\",\"ticks\":\"\"}},\"scene\":{\"xaxis\":{\"backgroundcolor\":\"#E5ECF6\",\"gridcolor\":\"white\",\"gridwidth\":2,\"linecolor\":\"white\",\"showbackground\":true,\"ticks\":\"\",\"zerolinecolor\":\"white\"},\"yaxis\":{\"backgroundcolor\":\"#E5ECF6\",\"gridcolor\":\"white\",\"gridwidth\":2,\"linecolor\":\"white\",\"showbackground\":true,\"ticks\":\"\",\"zerolinecolor\":\"white\"},\"zaxis\":{\"backgroundcolor\":\"#E5ECF6\",\"gridcolor\":\"white\",\"gridwidth\":2,\"linecolor\":\"white\",\"showbackground\":true,\"ticks\":\"\",\"zerolinecolor\":\"white\"}},\"shapedefaults\":{\"line\":{\"color\":\"#2a3f5f\"}},\"ternary\":{\"aaxis\":{\"gridcolor\":\"white\",\"linecolor\":\"white\",\"ticks\":\"\"},\"baxis\":{\"gridcolor\":\"white\",\"linecolor\":\"white\",\"ticks\":\"\"},\"bgcolor\":\"#E5ECF6\",\"caxis\":{\"gridcolor\":\"white\",\"linecolor\":\"white\",\"ticks\":\"\"}},\"title\":{\"x\":0.05},\"xaxis\":{\"automargin\":true,\"gridcolor\":\"white\",\"linecolor\":\"white\",\"ticks\":\"\",\"title\":{\"standoff\":15},\"zerolinecolor\":\"white\",\"zerolinewidth\":2},\"yaxis\":{\"automargin\":true,\"gridcolor\":\"white\",\"linecolor\":\"white\",\"ticks\":\"\",\"title\":{\"standoff\":15},\"zerolinecolor\":\"white\",\"zerolinewidth\":2}}},\"width\":500,\"xaxis\":{\"autorange\":false,\"exponentformat\":\"e\",\"linecolor\":\"black\",\"linewidth\":1,\"mirror\":false,\"range\":[-0.040005035400390625,2.0402568054199217],\"showexponent\":\"all\",\"showline\":true,\"side\":\"bottom\",\"ticks\":\"outside\",\"title\":{\"text\":\"Birth\"},\"type\":\"linear\",\"zeroline\":true},\"yaxis\":{\"autorange\":false,\"exponentformat\":\"e\",\"linecolor\":\"black\",\"linewidth\":1,\"mirror\":false,\"range\":[-0.040005035400390625,2.0402568054199217],\"scaleanchor\":\"x\",\"scaleratio\":1,\"showexponent\":\"all\",\"showline\":true,\"side\":\"left\",\"ticks\":\"outside\",\"title\":{\"text\":\"Death\"},\"type\":\"linear\",\"zeroline\":true}},                        {\"responsive\": true}                    ).then(function(){\n",
       "                            \n",
       "var gd = document.getElementById('6257c4ab-e3f5-4f4c-bd9e-df5b05aa8c77');\n",
       "var x = new MutationObserver(function (mutations, observer) {{\n",
       "        var display = window.getComputedStyle(gd).display;\n",
       "        if (!display || display === 'none') {{\n",
       "            console.log([gd, 'removed!']);\n",
       "            Plotly.purge(gd);\n",
       "            observer.disconnect();\n",
       "        }}\n",
       "}});\n",
       "\n",
       "// Listen for the removal of the full notebook cells\n",
       "var notebookContainer = gd.closest('#notebook-container');\n",
       "if (notebookContainer) {{\n",
       "    x.observe(notebookContainer, {childList: true});\n",
       "}}\n",
       "\n",
       "// Listen for the clearing of the current output cell\n",
       "var outputEl = gd.closest('.output');\n",
       "if (outputEl) {{\n",
       "    x.observe(outputEl, {childList: true});\n",
       "}}\n",
       "\n",
       "                        })                };                });            </script>        </div>"
      ]
     },
     "metadata": {},
     "output_type": "display_data"
    }
   ],
   "source": [
    "plot_diagram(diagrams[2])"
   ]
  },
  {
   "cell_type": "code",
   "execution_count": 178,
   "metadata": {},
   "outputs": [],
   "source": [
    "PE = PersistenceEntropy(normalize=False)\n",
    "features = PE.fit_transform(diagrams)"
   ]
  },
  {
   "cell_type": "code",
   "execution_count": 186,
   "metadata": {},
   "outputs": [
    {
     "data": {
      "text/plain": [
       "array([[6.61470984, 0.        ],\n",
       "       [6.44828045, 0.91937891],\n",
       "       [7.14014741, 1.        ]])"
      ]
     },
     "execution_count": 186,
     "metadata": {},
     "output_type": "execute_result"
    }
   ],
   "source": [
    "features"
   ]
  },
  {
   "cell_type": "code",
   "execution_count": null,
   "metadata": {},
   "outputs": [],
   "source": []
  }
 ],
 "metadata": {
  "kernelspec": {
   "display_name": "Python 3",
   "language": "python",
   "name": "python3"
  },
  "language_info": {
   "codemirror_mode": {
    "name": "ipython",
    "version": 3
   },
   "file_extension": ".py",
   "mimetype": "text/x-python",
   "name": "python",
   "nbconvert_exporter": "python",
   "pygments_lexer": "ipython3",
   "version": "3.8.5"
  }
 },
 "nbformat": 4,
 "nbformat_minor": 4
}
